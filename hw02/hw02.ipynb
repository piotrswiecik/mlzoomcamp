{
 "cells": [
  {
   "cell_type": "code",
   "execution_count": 1,
   "metadata": {},
   "outputs": [
    {
     "data": {
      "text/plain": [
       "'2.2.3'"
      ]
     },
     "execution_count": 1,
     "metadata": {},
     "output_type": "execute_result"
    }
   ],
   "source": [
    "import pandas as pd\n",
    "import numpy as np\n",
    "import urllib.request\n",
    "import os\n",
    "import matplotlib.pyplot as plt\n",
    "\n",
    "pd.__version__"
   ]
  },
  {
   "cell_type": "code",
   "execution_count": 2,
   "metadata": {},
   "outputs": [],
   "source": [
    "# data pull / cache\n",
    "\n",
    "data_url = \"https://raw.githubusercontent.com/alexeygrigorev/datasets/master/laptops.csv\"\n",
    "\n",
    "filename = \"laptops_data.csv\"\n",
    "\n",
    "if not os.path.exists(filename):\n",
    "    urllib.request.urlretrieve(data_url, filename)\n",
    "\n",
    "df_raw = pd.read_csv(filename)"
   ]
  },
  {
   "cell_type": "code",
   "execution_count": 3,
   "metadata": {},
   "outputs": [
    {
     "data": {
      "text/html": [
       "<div>\n",
       "<style scoped>\n",
       "    .dataframe tbody tr th:only-of-type {\n",
       "        vertical-align: middle;\n",
       "    }\n",
       "\n",
       "    .dataframe tbody tr th {\n",
       "        vertical-align: top;\n",
       "    }\n",
       "\n",
       "    .dataframe thead th {\n",
       "        text-align: right;\n",
       "    }\n",
       "</style>\n",
       "<table border=\"1\" class=\"dataframe\">\n",
       "  <thead>\n",
       "    <tr style=\"text-align: right;\">\n",
       "      <th></th>\n",
       "      <th>Laptop</th>\n",
       "      <th>Status</th>\n",
       "      <th>Brand</th>\n",
       "      <th>Model</th>\n",
       "      <th>CPU</th>\n",
       "      <th>RAM</th>\n",
       "      <th>Storage</th>\n",
       "      <th>Storage type</th>\n",
       "      <th>GPU</th>\n",
       "      <th>Screen</th>\n",
       "      <th>Touch</th>\n",
       "      <th>Final Price</th>\n",
       "    </tr>\n",
       "  </thead>\n",
       "  <tbody>\n",
       "    <tr>\n",
       "      <th>0</th>\n",
       "      <td>ASUS ExpertBook B1 B1502CBA-EJ0436X Intel Core...</td>\n",
       "      <td>New</td>\n",
       "      <td>Asus</td>\n",
       "      <td>ExpertBook</td>\n",
       "      <td>Intel Core i5</td>\n",
       "      <td>8</td>\n",
       "      <td>512</td>\n",
       "      <td>SSD</td>\n",
       "      <td>NaN</td>\n",
       "      <td>15.6</td>\n",
       "      <td>No</td>\n",
       "      <td>1009.0</td>\n",
       "    </tr>\n",
       "    <tr>\n",
       "      <th>1</th>\n",
       "      <td>Alurin Go Start Intel Celeron N4020/8GB/256GB ...</td>\n",
       "      <td>New</td>\n",
       "      <td>Alurin</td>\n",
       "      <td>Go</td>\n",
       "      <td>Intel Celeron</td>\n",
       "      <td>8</td>\n",
       "      <td>256</td>\n",
       "      <td>SSD</td>\n",
       "      <td>NaN</td>\n",
       "      <td>15.6</td>\n",
       "      <td>No</td>\n",
       "      <td>299.0</td>\n",
       "    </tr>\n",
       "  </tbody>\n",
       "</table>\n",
       "</div>"
      ],
      "text/plain": [
       "                                              Laptop Status   Brand  \\\n",
       "0  ASUS ExpertBook B1 B1502CBA-EJ0436X Intel Core...    New    Asus   \n",
       "1  Alurin Go Start Intel Celeron N4020/8GB/256GB ...    New  Alurin   \n",
       "\n",
       "        Model            CPU  RAM  Storage Storage type  GPU  Screen Touch  \\\n",
       "0  ExpertBook  Intel Core i5    8      512          SSD  NaN    15.6    No   \n",
       "1          Go  Intel Celeron    8      256          SSD  NaN    15.6    No   \n",
       "\n",
       "   Final Price  \n",
       "0       1009.0  \n",
       "1        299.0  "
      ]
     },
     "execution_count": 3,
     "metadata": {},
     "output_type": "execute_result"
    }
   ],
   "source": [
    "df_raw.head(2)"
   ]
  },
  {
   "cell_type": "code",
   "execution_count": 4,
   "metadata": {},
   "outputs": [
    {
     "data": {
      "text/html": [
       "<div>\n",
       "<style scoped>\n",
       "    .dataframe tbody tr th:only-of-type {\n",
       "        vertical-align: middle;\n",
       "    }\n",
       "\n",
       "    .dataframe tbody tr th {\n",
       "        vertical-align: top;\n",
       "    }\n",
       "\n",
       "    .dataframe thead th {\n",
       "        text-align: right;\n",
       "    }\n",
       "</style>\n",
       "<table border=\"1\" class=\"dataframe\">\n",
       "  <thead>\n",
       "    <tr style=\"text-align: right;\">\n",
       "      <th></th>\n",
       "      <th>laptop</th>\n",
       "      <th>status</th>\n",
       "      <th>brand</th>\n",
       "      <th>model</th>\n",
       "      <th>cpu</th>\n",
       "      <th>ram</th>\n",
       "      <th>storage</th>\n",
       "      <th>storage_type</th>\n",
       "      <th>gpu</th>\n",
       "      <th>screen</th>\n",
       "      <th>touch</th>\n",
       "      <th>final_price</th>\n",
       "    </tr>\n",
       "  </thead>\n",
       "  <tbody>\n",
       "    <tr>\n",
       "      <th>0</th>\n",
       "      <td>ASUS ExpertBook B1 B1502CBA-EJ0436X Intel Core...</td>\n",
       "      <td>New</td>\n",
       "      <td>Asus</td>\n",
       "      <td>ExpertBook</td>\n",
       "      <td>Intel Core i5</td>\n",
       "      <td>8</td>\n",
       "      <td>512</td>\n",
       "      <td>SSD</td>\n",
       "      <td>NaN</td>\n",
       "      <td>15.6</td>\n",
       "      <td>No</td>\n",
       "      <td>1009.0</td>\n",
       "    </tr>\n",
       "    <tr>\n",
       "      <th>1</th>\n",
       "      <td>Alurin Go Start Intel Celeron N4020/8GB/256GB ...</td>\n",
       "      <td>New</td>\n",
       "      <td>Alurin</td>\n",
       "      <td>Go</td>\n",
       "      <td>Intel Celeron</td>\n",
       "      <td>8</td>\n",
       "      <td>256</td>\n",
       "      <td>SSD</td>\n",
       "      <td>NaN</td>\n",
       "      <td>15.6</td>\n",
       "      <td>No</td>\n",
       "      <td>299.0</td>\n",
       "    </tr>\n",
       "  </tbody>\n",
       "</table>\n",
       "</div>"
      ],
      "text/plain": [
       "                                              laptop status   brand  \\\n",
       "0  ASUS ExpertBook B1 B1502CBA-EJ0436X Intel Core...    New    Asus   \n",
       "1  Alurin Go Start Intel Celeron N4020/8GB/256GB ...    New  Alurin   \n",
       "\n",
       "        model            cpu  ram  storage storage_type  gpu  screen touch  \\\n",
       "0  ExpertBook  Intel Core i5    8      512          SSD  NaN    15.6    No   \n",
       "1          Go  Intel Celeron    8      256          SSD  NaN    15.6    No   \n",
       "\n",
       "   final_price  \n",
       "0       1009.0  \n",
       "1        299.0  "
      ]
     },
     "execution_count": 4,
     "metadata": {},
     "output_type": "execute_result"
    }
   ],
   "source": [
    "# data processing\n",
    "\n",
    "def normalize_data(df):\n",
    "    df.columns = df.columns.str.strip().str.lower().str.replace(\" \", \"_\")\n",
    "    return df\n",
    "\n",
    "df = normalize_data(df_raw)\n",
    "df.head(2)"
   ]
  },
  {
   "cell_type": "code",
   "execution_count": 5,
   "metadata": {},
   "outputs": [
    {
     "data": {
      "text/html": [
       "<div>\n",
       "<style scoped>\n",
       "    .dataframe tbody tr th:only-of-type {\n",
       "        vertical-align: middle;\n",
       "    }\n",
       "\n",
       "    .dataframe tbody tr th {\n",
       "        vertical-align: top;\n",
       "    }\n",
       "\n",
       "    .dataframe thead th {\n",
       "        text-align: right;\n",
       "    }\n",
       "</style>\n",
       "<table border=\"1\" class=\"dataframe\">\n",
       "  <thead>\n",
       "    <tr style=\"text-align: right;\">\n",
       "      <th></th>\n",
       "      <th>ram</th>\n",
       "      <th>storage</th>\n",
       "      <th>screen</th>\n",
       "      <th>final_price</th>\n",
       "    </tr>\n",
       "  </thead>\n",
       "  <tbody>\n",
       "    <tr>\n",
       "      <th>0</th>\n",
       "      <td>8</td>\n",
       "      <td>512</td>\n",
       "      <td>15.6</td>\n",
       "      <td>1009.0</td>\n",
       "    </tr>\n",
       "    <tr>\n",
       "      <th>1</th>\n",
       "      <td>8</td>\n",
       "      <td>256</td>\n",
       "      <td>15.6</td>\n",
       "      <td>299.0</td>\n",
       "    </tr>\n",
       "  </tbody>\n",
       "</table>\n",
       "</div>"
      ],
      "text/plain": [
       "   ram  storage  screen  final_price\n",
       "0    8      512    15.6       1009.0\n",
       "1    8      256    15.6        299.0"
      ]
     },
     "execution_count": 5,
     "metadata": {},
     "output_type": "execute_result"
    }
   ],
   "source": [
    "# extact features\n",
    "\n",
    "data = df[[\"ram\", \"storage\", \"screen\", \"final_price\"]]\n",
    "data.head(2)"
   ]
  },
  {
   "cell_type": "markdown",
   "metadata": {},
   "source": [
    "## EDA"
   ]
  },
  {
   "cell_type": "code",
   "execution_count": 6,
   "metadata": {},
   "outputs": [
    {
     "data": {
      "text/plain": [
       "count    2160.000000\n",
       "mean     1312.638509\n",
       "std       911.475417\n",
       "min       201.050000\n",
       "25%       661.082500\n",
       "50%      1031.945000\n",
       "75%      1708.970000\n",
       "max      7150.470000\n",
       "Name: final_price, dtype: float64"
      ]
     },
     "execution_count": 6,
     "metadata": {},
     "output_type": "execute_result"
    }
   ],
   "source": [
    "df[\"final_price\"].describe()"
   ]
  },
  {
   "cell_type": "code",
   "execution_count": 7,
   "metadata": {},
   "outputs": [
    {
     "data": {
      "text/plain": [
       "(array([367., 547., 363., 243., 235., 129.,  80.,  61.,  39.,  27.,  33.,\n",
       "         10.,  10.,   9.,   3.,   2.,   1.,   0.,   0.,   1.]),\n",
       " array([ 201.05 ,  548.521,  895.992, 1243.463, 1590.934, 1938.405,\n",
       "        2285.876, 2633.347, 2980.818, 3328.289, 3675.76 , 4023.231,\n",
       "        4370.702, 4718.173, 5065.644, 5413.115, 5760.586, 6108.057,\n",
       "        6455.528, 6802.999, 7150.47 ]),\n",
       " <BarContainer object of 20 artists>)"
      ]
     },
     "execution_count": 7,
     "metadata": {},
     "output_type": "execute_result"
    },
    {
     "data": {
      "image/png": "[encoded data removed]",
      "text/plain": [
       "<Figure size 500x400 with 1 Axes>"
      ]
     },
     "metadata": {},
     "output_type": "display_data"
    }
   ],
   "source": [
    "# check distro skew / kurtosis / tails\n",
    "\n",
    "plt.figure(figsize=(5, 4))\n",
    "plt.hist(df[\"final_price\"], bins=20, color='c', edgecolor='black') # long tail distro"
   ]
  },
  {
   "cell_type": "code",
   "execution_count": 8,
   "metadata": {},
   "outputs": [
    {
     "data": {
      "text/plain": [
       "ram            0\n",
       "storage        0\n",
       "screen         4\n",
       "final_price    0\n",
       "dtype: int64"
      ]
     },
     "execution_count": 8,
     "metadata": {},
     "output_type": "execute_result"
    }
   ],
   "source": [
    "# check nans\n",
    "\n",
    "data.isna().sum()"
   ]
  },
  {
   "cell_type": "code",
   "execution_count": 9,
   "metadata": {},
   "outputs": [
    {
     "data": {
      "text/plain": [
       "count    2160.000000\n",
       "mean       15.413889\n",
       "std         9.867815\n",
       "min         4.000000\n",
       "25%         8.000000\n",
       "50%        16.000000\n",
       "75%        16.000000\n",
       "max       128.000000\n",
       "Name: ram, dtype: float64"
      ]
     },
     "execution_count": 9,
     "metadata": {},
     "output_type": "execute_result"
    }
   ],
   "source": [
    "# eda for ram\n",
    "\n",
    "df[\"ram\"].describe()"
   ]
  },
  {
   "cell_type": "code",
   "execution_count": 10,
   "metadata": {},
   "outputs": [
    {
     "data": {
      "text/plain": [
       "count    2160.000000\n",
       "mean      596.294444\n",
       "std       361.220506\n",
       "min         0.000000\n",
       "25%       256.000000\n",
       "50%       512.000000\n",
       "75%      1000.000000\n",
       "max      4000.000000\n",
       "Name: storage, dtype: float64"
      ]
     },
     "execution_count": 10,
     "metadata": {},
     "output_type": "execute_result"
    }
   ],
   "source": [
    "# eda for storage\n",
    "\n",
    "df[\"storage\"].describe()"
   ]
  },
  {
   "cell_type": "code",
   "execution_count": 11,
   "metadata": {},
   "outputs": [
    {
     "data": {
      "text/plain": [
       "count    2156.000000\n",
       "mean       15.168112\n",
       "std         1.203329\n",
       "min        10.100000\n",
       "25%        14.000000\n",
       "50%        15.600000\n",
       "75%        15.600000\n",
       "max        18.000000\n",
       "Name: screen, dtype: float64"
      ]
     },
     "execution_count": 11,
     "metadata": {},
     "output_type": "execute_result"
    }
   ],
   "source": [
    "# eda for screen\n",
    "\n",
    "df[\"screen\"].describe()"
   ]
  },
  {
   "cell_type": "code",
   "execution_count": 12,
   "metadata": {},
   "outputs": [
    {
     "data": {
      "text/plain": [
       "Text(0.5, 1.0, 'Price')"
      ]
     },
     "execution_count": 12,
     "metadata": {},
     "output_type": "execute_result"
    },
    {
     "data": {
      "image/png": "[encoded data removed]",
      "text/plain": [
       "<Figure size 640x480 with 4 Axes>"
      ]
     },
     "metadata": {},
     "output_type": "display_data"
    }
   ],
   "source": [
    "fig, (ax, ay) = plt.subplots(2, 2)\n",
    "fig.suptitle(\"Distribution of data\")\n",
    "\n",
    "plt.tight_layout(pad=2)\n",
    "\n",
    "ax[0].hist(df[\"ram\"], bins=20, color='c', edgecolor='black')\n",
    "ax[0].set_title(\"RAM\")\n",
    "\n",
    "ax[1].hist(df[\"storage\"], bins=20, color='c', edgecolor='black')\n",
    "ax[1].set_title(\"Storage\")\n",
    "\n",
    "ay[0].hist(df[\"screen\"], bins=20, color='c', edgecolor='black')\n",
    "ay[0].set_title(\"Screen\")\n",
    "\n",
    "ay[1].hist(df[\"final_price\"], bins=20, color='c', edgecolor='black')\n",
    "ay[1].set_title(\"Price\")"
   ]
  },
  {
   "cell_type": "markdown",
   "metadata": {},
   "source": [
    "## Prepare dataset"
   ]
  },
  {
   "cell_type": "code",
   "execution_count": 13,
   "metadata": {},
   "outputs": [],
   "source": [
    "def shuffle(df, seed=None):\n",
    "    if seed is not None and isinstance(seed, int):\n",
    "        np.random.seed(seed)\n",
    "    else:\n",
    "        np.random.seed(42)\n",
    "    idx = np.arange(df.shape[0])\n",
    "    np.random.shuffle(idx)\n",
    "    return df.iloc[idx]\n",
    "\n",
    "# quick test\n",
    "\n",
    "test_df = data.copy()\n",
    "s_df = shuffle(test_df)\n",
    "\n",
    "assert s_df.shape == test_df.shape\n",
    "assert s_df[\"ram\"].tolist() != test_df[\"ram\"].tolist()"
   ]
  },
  {
   "cell_type": "code",
   "execution_count": 14,
   "metadata": {},
   "outputs": [],
   "source": [
    "# shuffle data\n",
    "\n",
    "# data = shuffle(data)"
   ]
  },
  {
   "cell_type": "code",
   "execution_count": 15,
   "metadata": {},
   "outputs": [],
   "source": [
    "def data_split(data, train_size=0.6, val_size=0.2, test_size=0.2, seed=None):\n",
    "    if any([train_size >= 1, val_size >= 1, test_size >= 1]):\n",
    "        raise ValueError(\"train, val, test sizes must be less than 1\")\n",
    "    \n",
    "    if any([train_size <= 0, val_size <= 0, test_size <= 0]):\n",
    "        raise ValueError(\"train, val, test sizes must be greater than 0\")\n",
    "    \n",
    "    if train_size + val_size + test_size != 1:\n",
    "        raise ValueError(\"train, val, test sizes must sum to 1\")\n",
    "    \n",
    "    if seed is None or not isinstance(seed, int):\n",
    "        seed = 42\n",
    "\n",
    "    n = len(data)\n",
    "    n_val, n_test = 0, 0\n",
    "    \n",
    "    if val_size > 0:\n",
    "        n_val = int(n * val_size)\n",
    "\n",
    "    if test_size > 0:\n",
    "        n_test = int(n * test_size)\n",
    "\n",
    "    n_train = n - n_val - n_test\n",
    "\n",
    "    idx = np.arange(n)\n",
    "    np.random.seed(seed)\n",
    "    np.random.shuffle(idx)\n",
    "\n",
    "    df_train = data.iloc[idx[:n_train]].copy()\n",
    "    df_val = data.iloc[idx[n_train:n_train+n_val]].copy()\n",
    "    df_test = data.iloc[idx[n_train+n_val:]].copy()\n",
    "\n",
    "    return df_train, df_val, df_test"
   ]
  },
  {
   "cell_type": "code",
   "execution_count": 16,
   "metadata": {},
   "outputs": [
    {
     "name": "stdout",
     "output_type": "stream",
     "text": [
      "(1296, 4) (432, 4) (432, 4)\n"
     ]
    }
   ],
   "source": [
    "df_train, df_val, df_test = data_split(data, train_size=0.6, val_size=0.2, test_size=0.2)\n",
    "assert df_train.shape[0] + df_val.shape[0] + df_test.shape[0] == data.shape[0]\n",
    "\n",
    "print(df_train.shape, df_val.shape, df_test.shape)\n"
   ]
  },
  {
   "cell_type": "markdown",
   "metadata": {},
   "source": [
    "## Model definition"
   ]
  },
  {
   "cell_type": "code",
   "execution_count": 17,
   "metadata": {},
   "outputs": [],
   "source": [
    "def train_linear_regression(X, y):\n",
    "    ones = np.ones(X.shape[0])\n",
    "    X = np.column_stack([ones, X])\n",
    "\n",
    "    XTX = X.T.dot(X)\n",
    "    XTX_inv = np.linalg.inv(XTX)\n",
    "    w = XTX_inv.dot(X.T).dot(y)\n",
    "\n",
    "    return w[0], w[1:] \n",
    "\n",
    "\n",
    "def prepare_X_y(df):\n",
    "    df = df.copy()\n",
    "    y = df[\"final_price\"].values\n",
    "    # y = np.log1p(y)\n",
    "    del df[\"final_price\"]\n",
    "    X = df.values\n",
    "    return X, y\n",
    "\n",
    "\n",
    "def rmse(y, y_pred):\n",
    "    se = (y - y_pred) ** 2\n",
    "    mse = se.mean()\n",
    "    return np.sqrt(mse)"
   ]
  },
  {
   "cell_type": "markdown",
   "metadata": {},
   "source": [
    "## Test run #1 - fill missings with 0"
   ]
  },
  {
   "cell_type": "code",
   "execution_count": 18,
   "metadata": {},
   "outputs": [
    {
     "name": "stdout",
     "output_type": "stream",
     "text": [
      "Validation err #1: 597.36\n"
     ]
    }
   ],
   "source": [
    "X_train_1, y_train_1 = prepare_X_y(df_train.fillna(0))\n",
    "X_val_1, y_val_1 = prepare_X_y(df_val.fillna(0))\n",
    "X_test_1, y_test_1 = prepare_X_y(df_test.fillna(0))\n",
    "\n",
    "w_0, w = train_linear_regression(X_train_1, y_train_1)\n",
    "score_val_1 = rmse(y_val_1, X_val_1.dot(w) + w_0)\n",
    "\n",
    "print(\"Validation err #1:\", score_val_1.round(2))"
   ]
  },
  {
   "cell_type": "markdown",
   "metadata": {},
   "source": [
    "## Test run #2 - fill missings with mean"
   ]
  },
  {
   "cell_type": "code",
   "execution_count": 19,
   "metadata": {},
   "outputs": [
    {
     "name": "stdout",
     "output_type": "stream",
     "text": [
      "Validation err #2: 600.36\n"
     ]
    }
   ],
   "source": [
    "na_mean = df_train[\"ram\"].mean()\n",
    "\n",
    "X_train_2, y_train_2 = prepare_X_y(df_train.fillna(na_mean))\n",
    "X_val_2, y_val_2 = prepare_X_y(df_val.fillna(na_mean))\n",
    "X_test_2, y_test_2 = prepare_X_y(df_test.fillna(na_mean))\n",
    "\n",
    "w_0, w = train_linear_regression(X_train_2, y_train_2)\n",
    "score_val_2 = rmse(y_val_2, X_val_2.dot(w) + w_0)\n",
    "\n",
    "print(\"Validation err #2:\", score_val_2.round(2))"
   ]
  },
  {
   "cell_type": "markdown",
   "metadata": {},
   "source": [
    "## Regularization"
   ]
  },
  {
   "cell_type": "code",
   "execution_count": 20,
   "metadata": {},
   "outputs": [],
   "source": [
    "def train_linear_regression_with_reg(X, y, r):\n",
    "    ones = np.ones(X.shape[0])\n",
    "    X = np.column_stack([ones, X])\n",
    "\n",
    "    XTX = X.T.dot(X)\n",
    "    XTX += r * np.eye(XTX.shape[0])\n",
    "    XTX_inv = np.linalg.inv(XTX)\n",
    "    w = XTX_inv.dot(X.T).dot(y)\n",
    "\n",
    "    return w[0], w[1:] \n",
    "\n",
    "\n",
    "def prepare_X_y(df):\n",
    "    df = df.copy()\n",
    "    y = df[\"final_price\"].values\n",
    "    # y = np.log1p(y)\n",
    "    del df[\"final_price\"]\n",
    "    X = df.values\n",
    "    return X, y\n",
    "\n",
    "\n",
    "def rmse(y, y_pred):\n",
    "    se = (y - y_pred) ** 2\n",
    "    mse = se.mean()\n",
    "    return np.sqrt(mse)"
   ]
  },
  {
   "cell_type": "code",
   "execution_count": 21,
   "metadata": {},
   "outputs": [
    {
     "name": "stdout",
     "output_type": "stream",
     "text": [
      "Regularization: 0, Validation error: 597.36\n",
      "Regularization: 0.01, Validation error: 597.36\n",
      "Regularization: 0.1, Validation error: 597.35\n",
      "Regularization: 1, Validation error: 597.21\n",
      "Regularization: 5, Validation error: 597.01\n",
      "Regularization: 10, Validation error: 597.06\n",
      "Regularization: 100, Validation error: 597.9\n",
      "Best regularization: 5\n"
     ]
    }
   ],
   "source": [
    "scores = dict()\n",
    "hyperparameters = [0, 0.01, 0.1, 1, 5, 10, 100]\n",
    "\n",
    "for r in hyperparameters:\n",
    "    X_train, y_train = prepare_X_y(df_train.fillna(0))\n",
    "    X_val, y_val = prepare_X_y(df_val.fillna(0))\n",
    "\n",
    "    w_0, w = train_linear_regression_with_reg(X_train, y_train, r)\n",
    "    score = rmse(y_val, X_val.dot(w) + w_0)\n",
    "    scores[r] = score.round(2)\n",
    "\n",
    "for r, score in scores.items():\n",
    "    print(f\"Regularization: {r}, Validation error: {score}\")\n",
    "\n",
    "best_r = min(scores, key=scores.get)\n",
    "print(f\"Best regularization: {best_r}\")"
   ]
  },
  {
   "cell_type": "markdown",
   "metadata": {},
   "source": [
    "## Influence of random seed"
   ]
  },
  {
   "cell_type": "code",
   "execution_count": 22,
   "metadata": {},
   "outputs": [
    {
     "name": "stdout",
     "output_type": "stream",
     "text": [
      "Validation error for seed=0: 565.452\n",
      "Validation error for seed=1: 636.799\n",
      "Validation error for seed=2: 588.956\n",
      "Validation error for seed=3: 597.815\n",
      "Validation error for seed=4: 571.963\n",
      "Validation error for seed=5: 573.238\n",
      "Validation error for seed=6: 647.344\n",
      "Validation error for seed=7: 550.44\n",
      "Validation error for seed=8: 587.334\n",
      "Validation error for seed=9: 576.102\n",
      "stdev of validation errors: 29.177\n"
     ]
    }
   ],
   "source": [
    "seeds = [0, 1, 2, 3, 4, 5, 6, 7, 8, 9]\n",
    "scores = dict()\n",
    "\n",
    "for seed in seeds:\n",
    "    df_train, df_val, df_test = data_split(\n",
    "        data, train_size=0.6, val_size=0.2, test_size=0.2, seed=seed\n",
    "        )\n",
    "    \n",
    "    X_train, y_train = prepare_X_y(df_train.fillna(0))\n",
    "    X_val, y_val = prepare_X_y(df_val.fillna(0))\n",
    "    X_test, y_test = prepare_X_y(df_test.fillna(0))\n",
    "\n",
    "    w_0, w = train_linear_regression(X_train, y_train)\n",
    "    score_val = rmse(y_val, X_val.dot(w) + w_0)\n",
    "    \n",
    "    scores[seed] = score_val.round(3)\n",
    "\n",
    "for seed, score in scores.items():\n",
    "    print(f\"Validation error for seed={seed}: {score}\")\n",
    "\n",
    "stdev = np.std(list(scores.values()))\n",
    "print(f\"stdev of validation errors: {stdev:.3f}\")"
   ]
  },
  {
   "cell_type": "markdown",
   "metadata": {},
   "source": [
    "## Final iteration"
   ]
  },
  {
   "cell_type": "code",
   "execution_count": 23,
   "metadata": {},
   "outputs": [
    {
     "name": "stdout",
     "output_type": "stream",
     "text": [
      "Test error: 608.61\n"
     ]
    }
   ],
   "source": [
    "seed = 9\n",
    "\n",
    "df_train, df_val, df_test = data_split(\n",
    "        data, train_size=0.6, val_size=0.2, test_size=0.2, seed=seed\n",
    "    )\n",
    "\n",
    "df_train = pd.concat([df_train, df_val])\n",
    "\n",
    "X_train, y_train = prepare_X_y(df_train.fillna(0))\n",
    "X_test, y_test = prepare_X_y(df_test.fillna(0))\n",
    "\n",
    "w_0, w = train_linear_regression_with_reg(X_train, y_train, r=0.001)\n",
    "\n",
    "score = rmse(y_test, X_test.dot(w) + w_0)\n",
    "\n",
    "print(f\"Test error: {score:.2f}\")"
   ]
  },
  {
   "cell_type": "code",
   "execution_count": null,
   "metadata": {},
   "outputs": [],
   "source": []
  }
 ],
 "metadata": {
  "kernelspec": {
   "display_name": "mlz",
   "language": "python",
   "name": "python3"
  },
  "language_info": {
   "codemirror_mode": {
    "name": "ipython",
    "version": 3
   },
   "file_extension": ".py",
   "mimetype": "text/x-python",
   "name": "python",
   "nbconvert_exporter": "python",
   "pygments_lexer": "ipython3",
   "version": "3.12.6"
  }
 },
 "nbformat": 4,
 "nbformat_minor": 2
}
