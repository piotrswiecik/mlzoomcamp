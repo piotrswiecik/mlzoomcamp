{
 "cells": [
  {
   "cell_type": "code",
   "execution_count": 96,
   "metadata": {},
   "outputs": [],
   "source": [
    "import urllib.request\n",
    "import pandas as pd\n",
    "import matplotlib.pyplot as plt\n",
    "import numpy as np"
   ]
  },
  {
   "cell_type": "code",
   "execution_count": 67,
   "metadata": {},
   "outputs": [
    {
     "data": {
      "text/plain": [
       "('jamb_exam_results.csv', <http.client.HTTPMessage at 0x16521f590>)"
      ]
     },
     "execution_count": 67,
     "metadata": {},
     "output_type": "execute_result"
    }
   ],
   "source": [
    "url = \"https://github.com/alexeygrigorev/datasets/raw/refs/heads/master/jamb_exam_results.csv\"\n",
    "\n",
    "urllib.request.urlretrieve(url, \"jamb_exam_results.csv\")"
   ]
  },
  {
   "cell_type": "code",
   "execution_count": 68,
   "metadata": {},
   "outputs": [],
   "source": [
    "df = pd.read_csv(\"jamb_exam_results.csv\")"
   ]
  },
  {
   "cell_type": "code",
   "execution_count": 69,
   "metadata": {},
   "outputs": [],
   "source": [
    "df.columns = df.columns.str.strip().str.lower().str.replace(\" \", \"_\")"
   ]
  },
  {
   "cell_type": "code",
   "execution_count": 70,
   "metadata": {},
   "outputs": [],
   "source": [
    "del df[\"student_id\"]"
   ]
  },
  {
   "cell_type": "code",
   "execution_count": 71,
   "metadata": {},
   "outputs": [],
   "source": [
    "for col in df.dtypes[df.dtypes == \"object\"].index:\n",
    "    df[col] = df[col].str.strip().str.lower()"
   ]
  },
  {
   "cell_type": "code",
   "execution_count": 72,
   "metadata": {},
   "outputs": [
    {
     "data": {
      "text/html": [
       "<div>\n",
       "<style scoped>\n",
       "    .dataframe tbody tr th:only-of-type {\n",
       "        vertical-align: middle;\n",
       "    }\n",
       "\n",
       "    .dataframe tbody tr th {\n",
       "        vertical-align: top;\n",
       "    }\n",
       "\n",
       "    .dataframe thead th {\n",
       "        text-align: right;\n",
       "    }\n",
       "</style>\n",
       "<table border=\"1\" class=\"dataframe\">\n",
       "  <thead>\n",
       "    <tr style=\"text-align: right;\">\n",
       "      <th></th>\n",
       "      <th>jamb_score</th>\n",
       "      <th>study_hours_per_week</th>\n",
       "      <th>attendance_rate</th>\n",
       "      <th>teacher_quality</th>\n",
       "      <th>distance_to_school</th>\n",
       "      <th>school_type</th>\n",
       "      <th>school_location</th>\n",
       "      <th>extra_tutorials</th>\n",
       "      <th>access_to_learning_materials</th>\n",
       "      <th>parent_involvement</th>\n",
       "      <th>it_knowledge</th>\n",
       "      <th>age</th>\n",
       "      <th>gender</th>\n",
       "      <th>socioeconomic_status</th>\n",
       "      <th>parent_education_level</th>\n",
       "      <th>assignments_completed</th>\n",
       "    </tr>\n",
       "  </thead>\n",
       "  <tbody>\n",
       "    <tr>\n",
       "      <th>0</th>\n",
       "      <td>192</td>\n",
       "      <td>22</td>\n",
       "      <td>78</td>\n",
       "      <td>4</td>\n",
       "      <td>12.4</td>\n",
       "      <td>public</td>\n",
       "      <td>urban</td>\n",
       "      <td>yes</td>\n",
       "      <td>yes</td>\n",
       "      <td>high</td>\n",
       "      <td>medium</td>\n",
       "      <td>17</td>\n",
       "      <td>male</td>\n",
       "      <td>low</td>\n",
       "      <td>tertiary</td>\n",
       "      <td>2</td>\n",
       "    </tr>\n",
       "    <tr>\n",
       "      <th>1</th>\n",
       "      <td>207</td>\n",
       "      <td>14</td>\n",
       "      <td>88</td>\n",
       "      <td>4</td>\n",
       "      <td>2.7</td>\n",
       "      <td>public</td>\n",
       "      <td>rural</td>\n",
       "      <td>no</td>\n",
       "      <td>yes</td>\n",
       "      <td>high</td>\n",
       "      <td>high</td>\n",
       "      <td>15</td>\n",
       "      <td>male</td>\n",
       "      <td>high</td>\n",
       "      <td>NaN</td>\n",
       "      <td>1</td>\n",
       "    </tr>\n",
       "  </tbody>\n",
       "</table>\n",
       "</div>"
      ],
      "text/plain": [
       "   jamb_score  study_hours_per_week  attendance_rate  teacher_quality  \\\n",
       "0         192                    22               78                4   \n",
       "1         207                    14               88                4   \n",
       "\n",
       "   distance_to_school school_type school_location extra_tutorials  \\\n",
       "0                12.4      public           urban             yes   \n",
       "1                 2.7      public           rural              no   \n",
       "\n",
       "  access_to_learning_materials parent_involvement it_knowledge  age gender  \\\n",
       "0                          yes               high       medium   17   male   \n",
       "1                          yes               high         high   15   male   \n",
       "\n",
       "  socioeconomic_status parent_education_level  assignments_completed  \n",
       "0                  low               tertiary                      2  \n",
       "1                 high                    NaN                      1  "
      ]
     },
     "execution_count": 72,
     "metadata": {},
     "output_type": "execute_result"
    }
   ],
   "source": [
    "df.head(2)"
   ]
  },
  {
   "cell_type": "code",
   "execution_count": 73,
   "metadata": {},
   "outputs": [],
   "source": [
    "df.fillna(0, inplace=True)"
   ]
  },
  {
   "cell_type": "code",
   "execution_count": 74,
   "metadata": {},
   "outputs": [
    {
     "data": {
      "text/plain": [
       "jamb_score                      0\n",
       "study_hours_per_week            0\n",
       "attendance_rate                 0\n",
       "teacher_quality                 0\n",
       "distance_to_school              0\n",
       "school_type                     0\n",
       "school_location                 0\n",
       "extra_tutorials                 0\n",
       "access_to_learning_materials    0\n",
       "parent_involvement              0\n",
       "it_knowledge                    0\n",
       "age                             0\n",
       "gender                          0\n",
       "socioeconomic_status            0\n",
       "parent_education_level          0\n",
       "assignments_completed           0\n",
       "dtype: int64"
      ]
     },
     "execution_count": 74,
     "metadata": {},
     "output_type": "execute_result"
    }
   ],
   "source": [
    "df.isna().sum()"
   ]
  },
  {
   "cell_type": "code",
   "execution_count": 75,
   "metadata": {},
   "outputs": [
    {
     "data": {
      "text/html": [
       "<div>\n",
       "<style scoped>\n",
       "    .dataframe tbody tr th:only-of-type {\n",
       "        vertical-align: middle;\n",
       "    }\n",
       "\n",
       "    .dataframe tbody tr th {\n",
       "        vertical-align: top;\n",
       "    }\n",
       "\n",
       "    .dataframe thead th {\n",
       "        text-align: right;\n",
       "    }\n",
       "</style>\n",
       "<table border=\"1\" class=\"dataframe\">\n",
       "  <thead>\n",
       "    <tr style=\"text-align: right;\">\n",
       "      <th></th>\n",
       "      <th>jamb_score</th>\n",
       "      <th>study_hours_per_week</th>\n",
       "      <th>attendance_rate</th>\n",
       "      <th>teacher_quality</th>\n",
       "      <th>distance_to_school</th>\n",
       "      <th>school_type</th>\n",
       "      <th>school_location</th>\n",
       "      <th>extra_tutorials</th>\n",
       "      <th>access_to_learning_materials</th>\n",
       "      <th>parent_involvement</th>\n",
       "      <th>it_knowledge</th>\n",
       "      <th>age</th>\n",
       "      <th>gender</th>\n",
       "      <th>socioeconomic_status</th>\n",
       "      <th>parent_education_level</th>\n",
       "      <th>assignments_completed</th>\n",
       "    </tr>\n",
       "  </thead>\n",
       "  <tbody>\n",
       "    <tr>\n",
       "      <th>0</th>\n",
       "      <td>192</td>\n",
       "      <td>22</td>\n",
       "      <td>78</td>\n",
       "      <td>4</td>\n",
       "      <td>12.4</td>\n",
       "      <td>public</td>\n",
       "      <td>urban</td>\n",
       "      <td>yes</td>\n",
       "      <td>yes</td>\n",
       "      <td>high</td>\n",
       "      <td>medium</td>\n",
       "      <td>17</td>\n",
       "      <td>male</td>\n",
       "      <td>low</td>\n",
       "      <td>tertiary</td>\n",
       "      <td>2</td>\n",
       "    </tr>\n",
       "    <tr>\n",
       "      <th>1</th>\n",
       "      <td>207</td>\n",
       "      <td>14</td>\n",
       "      <td>88</td>\n",
       "      <td>4</td>\n",
       "      <td>2.7</td>\n",
       "      <td>public</td>\n",
       "      <td>rural</td>\n",
       "      <td>no</td>\n",
       "      <td>yes</td>\n",
       "      <td>high</td>\n",
       "      <td>high</td>\n",
       "      <td>15</td>\n",
       "      <td>male</td>\n",
       "      <td>high</td>\n",
       "      <td>0</td>\n",
       "      <td>1</td>\n",
       "    </tr>\n",
       "  </tbody>\n",
       "</table>\n",
       "</div>"
      ],
      "text/plain": [
       "   jamb_score  study_hours_per_week  attendance_rate  teacher_quality  \\\n",
       "0         192                    22               78                4   \n",
       "1         207                    14               88                4   \n",
       "\n",
       "   distance_to_school school_type school_location extra_tutorials  \\\n",
       "0                12.4      public           urban             yes   \n",
       "1                 2.7      public           rural              no   \n",
       "\n",
       "  access_to_learning_materials parent_involvement it_knowledge  age gender  \\\n",
       "0                          yes               high       medium   17   male   \n",
       "1                          yes               high         high   15   male   \n",
       "\n",
       "  socioeconomic_status parent_education_level  assignments_completed  \n",
       "0                  low               tertiary                      2  \n",
       "1                 high                      0                      1  "
      ]
     },
     "execution_count": 75,
     "metadata": {},
     "output_type": "execute_result"
    }
   ],
   "source": [
    "df.head(2)"
   ]
  },
  {
   "cell_type": "code",
   "execution_count": 76,
   "metadata": {},
   "outputs": [],
   "source": [
    "from sklearn.model_selection import train_test_split\n",
    "\n",
    "df_full_train, df_test = train_test_split(df, test_size=0.2, random_state=1)\n",
    "df_train, df_val = train_test_split(df_full_train, test_size=0.25, random_state=1)\n",
    "\n",
    "df_train = df_train.reset_index(drop=True)\n",
    "df_val = df_val.reset_index(drop=True)\n",
    "df_test = df_test.reset_index(drop=True)\n",
    "\n",
    "y_train = df_train[\"jamb_score\"]\n",
    "y_val = df_val[\"jamb_score\"]\n",
    "y_test = df_test[\"jamb_score\"]\n",
    "\n",
    "del df_train[\"jamb_score\"]\n",
    "del df_val[\"jamb_score\"]\n",
    "del df_test[\"jamb_score\"]"
   ]
  },
  {
   "cell_type": "code",
   "execution_count": 77,
   "metadata": {},
   "outputs": [],
   "source": [
    "from sklearn.feature_extraction import DictVectorizer\n",
    "\n",
    "dv = DictVectorizer(sparse=True)\n",
    "\n",
    "train_dict = df_train.to_dict(orient=\"records\")\n",
    "dv.fit(train_dict)\n",
    "X_train = dv.transform(train_dict)\n",
    "X_val = dv.transform(df_val.to_dict(orient=\"records\"))\n",
    "X_test = dv.transform(df_test.to_dict(orient=\"records\"))\n"
   ]
  },
  {
   "cell_type": "code",
   "execution_count": 79,
   "metadata": {},
   "outputs": [
    {
     "name": "stdout",
     "output_type": "stream",
     "text": [
      "|--- study_hours_per_week <= 18.50\n",
      "|   |--- value: [155.24]\n",
      "|--- study_hours_per_week >  18.50\n",
      "|   |--- value: [188.59]\n",
      "\n"
     ]
    }
   ],
   "source": [
    "from sklearn.tree import DecisionTreeRegressor\n",
    "from sklearn.tree import export_text\n",
    "\n",
    "dt = DecisionTreeRegressor(max_depth=1)\n",
    "dt.fit(X_train, y_train)\n",
    "\n",
    "print(export_text(dt, feature_names=dv.get_feature_names_out()))"
   ]
  },
  {
   "cell_type": "code",
   "execution_count": 81,
   "metadata": {},
   "outputs": [
    {
     "data": {
      "text/plain": [
       "42.13724207871227"
      ]
     },
     "execution_count": 81,
     "metadata": {},
     "output_type": "execute_result"
    }
   ],
   "source": [
    "from sklearn.ensemble import RandomForestRegressor\n",
    "from sklearn.metrics import root_mean_squared_error\n",
    "\n",
    "rf = RandomForestRegressor(n_estimators=10, random_state=1, n_jobs=-1)\n",
    "rf.fit(X_train, y_train)\n",
    "root_mean_squared_error(y_val, rf.predict(X_val))"
   ]
  },
  {
   "cell_type": "code",
   "execution_count": 85,
   "metadata": {},
   "outputs": [],
   "source": [
    "scores = dict()\n",
    "for n_est in range(10, 201, 10):\n",
    "    rf = RandomForestRegressor(n_estimators=n_est, random_state=1, n_jobs=-1)\n",
    "    rf.fit(X_train, y_train)\n",
    "    rmse = root_mean_squared_error(y_val, rf.predict(X_val))\n",
    "    scores.update({n_est: rmse})"
   ]
  },
  {
   "cell_type": "code",
   "execution_count": 88,
   "metadata": {},
   "outputs": [
    {
     "data": {
      "text/plain": [
       "[<matplotlib.lines.Line2D at 0x16564e5d0>]"
      ]
     },
     "execution_count": 88,
     "metadata": {},
     "output_type": "execute_result"
    },
    {
     "data": {
      "image/png": "[encoded data removed]",
      "text/plain": [
       "<Figure size 640x480 with 1 Axes>"
      ]
     },
     "metadata": {},
     "output_type": "display_data"
    }
   ],
   "source": [
    "scores_df = pd.DataFrame(scores.items(), columns=[\"n_estimators\", \"rmse\"])\n",
    "\n",
    "plt.plot(scores_df[\"n_estimators\"], scores_df[\"rmse\"])"
   ]
  },
  {
   "cell_type": "code",
   "execution_count": 99,
   "metadata": {},
   "outputs": [],
   "source": [
    "scores_b = dict()\n",
    "\n",
    "for depth in [10, 15, 20, 25]:\n",
    "    _intermediate_scores = []\n",
    "    for n_est in range(10, 201, 10):\n",
    "        rf = RandomForestRegressor(n_estimators=n_est, max_depth=depth, random_state=1, n_jobs=-1)\n",
    "        rf.fit(X_train, y_train)\n",
    "        rmse = root_mean_squared_error(y_val, rf.predict(X_val))\n",
    "        _intermediate_scores.append(rmse)\n",
    "    scores_b.update({depth: np.mean(_intermediate_scores)})\n",
    "\n",
    "scores_b_df = pd.DataFrame(scores_b.items(), columns=[\"max_depth\", \"rmse\"])"
   ]
  },
  {
   "cell_type": "code",
   "execution_count": 102,
   "metadata": {},
   "outputs": [
    {
     "data": {
      "text/html": [
       "<div>\n",
       "<style scoped>\n",
       "    .dataframe tbody tr th:only-of-type {\n",
       "        vertical-align: middle;\n",
       "    }\n",
       "\n",
       "    .dataframe tbody tr th {\n",
       "        vertical-align: top;\n",
       "    }\n",
       "\n",
       "    .dataframe thead th {\n",
       "        text-align: right;\n",
       "    }\n",
       "</style>\n",
       "<table border=\"1\" class=\"dataframe\">\n",
       "  <thead>\n",
       "    <tr style=\"text-align: right;\">\n",
       "      <th></th>\n",
       "      <th>max_depth</th>\n",
       "      <th>rmse</th>\n",
       "    </tr>\n",
       "  </thead>\n",
       "  <tbody>\n",
       "    <tr>\n",
       "      <th>0</th>\n",
       "      <td>10</td>\n",
       "      <td>40.392498</td>\n",
       "    </tr>\n",
       "    <tr>\n",
       "      <th>1</th>\n",
       "      <td>15</td>\n",
       "      <td>40.735282</td>\n",
       "    </tr>\n",
       "    <tr>\n",
       "      <th>2</th>\n",
       "      <td>20</td>\n",
       "      <td>40.739734</td>\n",
       "    </tr>\n",
       "    <tr>\n",
       "      <th>3</th>\n",
       "      <td>25</td>\n",
       "      <td>40.787866</td>\n",
       "    </tr>\n",
       "  </tbody>\n",
       "</table>\n",
       "</div>"
      ],
      "text/plain": [
       "   max_depth       rmse\n",
       "0         10  40.392498\n",
       "1         15  40.735282\n",
       "2         20  40.739734\n",
       "3         25  40.787866"
      ]
     },
     "execution_count": 102,
     "metadata": {},
     "output_type": "execute_result"
    }
   ],
   "source": [
    "scores_b_df.sort_values(by=\"rmse\", ascending=True)"
   ]
  },
  {
   "cell_type": "code",
   "execution_count": 106,
   "metadata": {},
   "outputs": [
    {
     "data": {
      "text/plain": [
       "array([0.0123254 , 0.01026189, 0.06931145, 0.03151679, 0.14972903,\n",
       "       0.1364858 , 0.01345934, 0.00913136, 0.00928871, 0.01038263,\n",
       "       0.01771934, 0.01240405, 0.00914148, 0.        , 0.01545036,\n",
       "       0.01695692, 0.01448862, 0.02291885, 0.01335761, 0.01149201,\n",
       "       0.00955909, 0.00923932, 0.0089532 , 0.00840598, 0.02571426,\n",
       "       0.01070798, 0.01056268, 0.24835361, 0.08268222])"
      ]
     },
     "execution_count": 106,
     "metadata": {},
     "output_type": "execute_result"
    }
   ],
   "source": [
    "model_fi = RandomForestRegressor(max_depth=20, random_state=1, n_estimators=10, n_jobs=-1)\n",
    "model_fi.fit(X_train, y_train)\n",
    "model_fi.feature_importances_"
   ]
  },
  {
   "cell_type": "code",
   "execution_count": 108,
   "metadata": {},
   "outputs": [
    {
     "data": {
      "text/plain": [
       "'study_hours_per_week'"
      ]
     },
     "execution_count": 108,
     "metadata": {},
     "output_type": "execute_result"
    }
   ],
   "source": [
    "dv.get_feature_names_out()[np.argmax(model_fi.feature_importances_)]"
   ]
  },
  {
   "cell_type": "code",
   "execution_count": 110,
   "metadata": {},
   "outputs": [
    {
     "name": "stdout",
     "output_type": "stream",
     "text": [
      "Model A RMSE: 43.418817345871766, Model B RMSE: 41.05034017683498\n"
     ]
    }
   ],
   "source": [
    "import xgboost as xgb\n",
    "\n",
    "dmatrix_train = xgb.DMatrix(X_train, label=y_train, feature_names=dv.feature_names_)\n",
    "dmatrix_val = xgb.DMatrix(X_val, label=y_val, feature_names=dv.feature_names_)\n",
    "\n",
    "xgb_params_a = {\n",
    "    \"eta\": 0.3,\n",
    "    \"max_depth\": 6,\n",
    "    \"min_child_weight\": 1,\n",
    "    \"objective\": \"reg:squarederror\",\n",
    "    \"nthread\": 8,\n",
    "    \"seed\": 1,\n",
    "    \"verbosity\": 1,\n",
    "}\n",
    "\n",
    "xgb_params_b = {\n",
    "    \"eta\": 0.1,\n",
    "    \"max_depth\": 6,\n",
    "    \"min_child_weight\": 1,\n",
    "    \"objective\": \"reg:squarederror\",\n",
    "    \"nthread\": 8,\n",
    "    \"seed\": 1,\n",
    "    \"verbosity\": 1,\n",
    "}\n",
    "\n",
    "xgba = xgb.train(xgb_params_a, dmatrix_train, num_boost_round=100)\n",
    "xgbb = xgb.train(xgb_params_b, dmatrix_train, num_boost_round=100)\n",
    "\n",
    "xgb_pred_a = xgba.predict(dmatrix_val)\n",
    "xgb_pred_b = xgbb.predict(dmatrix_val)\n",
    "\n",
    "rms_a, rms_b = root_mean_squared_error(y_val, xgb_pred_a), root_mean_squared_error(y_val, xgb_pred_b)\n",
    "\n",
    "print(f\"Model A RMSE: {rms_a}, Model B RMSE: {rms_b}\")"
   ]
  }
 ],
 "metadata": {
  "kernelspec": {
   "display_name": "base",
   "language": "python",
   "name": "python3"
  },
  "language_info": {
   "codemirror_mode": {
    "name": "ipython",
    "version": 3
   },
   "file_extension": ".py",
   "mimetype": "text/x-python",
   "name": "python",
   "nbconvert_exporter": "python",
   "pygments_lexer": "ipython3",
   "version": "3.12.2"
  }
 },
 "nbformat": 4,
 "nbformat_minor": 2
}
