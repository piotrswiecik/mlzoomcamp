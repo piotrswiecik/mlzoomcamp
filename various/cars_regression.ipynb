{
 "cells": [
  {
   "cell_type": "markdown",
   "metadata": {},
   "source": [
    "# MLZ week 2 session"
   ]
  },
  {
   "cell_type": "code",
   "execution_count": 5,
   "metadata": {},
   "outputs": [],
   "source": [
    "import pandas as pd\n",
    "import numpy as np\n",
    "import urllib.request\n",
    "import os\n",
    "import matplotlib.pyplot as plt\n",
    "import seaborn as sns\n",
    "\n",
    "%matplotlib inline"
   ]
  },
  {
   "cell_type": "code",
   "execution_count": 6,
   "metadata": {},
   "outputs": [],
   "source": [
    "data_url = \"https://raw.githubusercontent.com/alexeygrigorev/mlbookcamp-code/master/chapter-02-car-price/data.csv\""
   ]
  },
  {
   "cell_type": "code",
   "execution_count": 7,
   "metadata": {},
   "outputs": [],
   "source": [
    "filename = \"cars_data.csv\"\n",
    "\n",
    "if not os.path.exists(filename):\n",
    "    urllib.request.urlretrieve(data_url, filename)"
   ]
  },
  {
   "cell_type": "code",
   "execution_count": 8,
   "metadata": {},
   "outputs": [],
   "source": [
    "df = pd.read_csv(filename)"
   ]
  },
  {
   "cell_type": "markdown",
   "metadata": {},
   "source": [
    "## Data prep section"
   ]
  },
  {
   "cell_type": "code",
   "execution_count": 9,
   "metadata": {},
   "outputs": [
    {
     "data": {
      "text/html": [
       "<div>\n",
       "<style scoped>\n",
       "    .dataframe tbody tr th:only-of-type {\n",
       "        vertical-align: middle;\n",
       "    }\n",
       "\n",
       "    .dataframe tbody tr th {\n",
       "        vertical-align: top;\n",
       "    }\n",
       "\n",
       "    .dataframe thead th {\n",
       "        text-align: right;\n",
       "    }\n",
       "</style>\n",
       "<table border=\"1\" class=\"dataframe\">\n",
       "  <thead>\n",
       "    <tr style=\"text-align: right;\">\n",
       "      <th></th>\n",
       "      <th>Make</th>\n",
       "      <th>Model</th>\n",
       "      <th>Year</th>\n",
       "      <th>Engine Fuel Type</th>\n",
       "      <th>Engine HP</th>\n",
       "      <th>Engine Cylinders</th>\n",
       "      <th>Transmission Type</th>\n",
       "      <th>Driven_Wheels</th>\n",
       "      <th>Number of Doors</th>\n",
       "      <th>Market Category</th>\n",
       "      <th>Vehicle Size</th>\n",
       "      <th>Vehicle Style</th>\n",
       "      <th>highway MPG</th>\n",
       "      <th>city mpg</th>\n",
       "      <th>Popularity</th>\n",
       "      <th>MSRP</th>\n",
       "    </tr>\n",
       "  </thead>\n",
       "  <tbody>\n",
       "    <tr>\n",
       "      <th>0</th>\n",
       "      <td>BMW</td>\n",
       "      <td>1 Series M</td>\n",
       "      <td>2011</td>\n",
       "      <td>premium unleaded (required)</td>\n",
       "      <td>335.0</td>\n",
       "      <td>6.0</td>\n",
       "      <td>MANUAL</td>\n",
       "      <td>rear wheel drive</td>\n",
       "      <td>2.0</td>\n",
       "      <td>Factory Tuner,Luxury,High-Performance</td>\n",
       "      <td>Compact</td>\n",
       "      <td>Coupe</td>\n",
       "      <td>26</td>\n",
       "      <td>19</td>\n",
       "      <td>3916</td>\n",
       "      <td>46135</td>\n",
       "    </tr>\n",
       "    <tr>\n",
       "      <th>1</th>\n",
       "      <td>BMW</td>\n",
       "      <td>1 Series</td>\n",
       "      <td>2011</td>\n",
       "      <td>premium unleaded (required)</td>\n",
       "      <td>300.0</td>\n",
       "      <td>6.0</td>\n",
       "      <td>MANUAL</td>\n",
       "      <td>rear wheel drive</td>\n",
       "      <td>2.0</td>\n",
       "      <td>Luxury,Performance</td>\n",
       "      <td>Compact</td>\n",
       "      <td>Convertible</td>\n",
       "      <td>28</td>\n",
       "      <td>19</td>\n",
       "      <td>3916</td>\n",
       "      <td>40650</td>\n",
       "    </tr>\n",
       "  </tbody>\n",
       "</table>\n",
       "</div>"
      ],
      "text/plain": [
       "  Make       Model  Year             Engine Fuel Type  Engine HP  \\\n",
       "0  BMW  1 Series M  2011  premium unleaded (required)      335.0   \n",
       "1  BMW    1 Series  2011  premium unleaded (required)      300.0   \n",
       "\n",
       "   Engine Cylinders Transmission Type     Driven_Wheels  Number of Doors  \\\n",
       "0               6.0            MANUAL  rear wheel drive              2.0   \n",
       "1               6.0            MANUAL  rear wheel drive              2.0   \n",
       "\n",
       "                         Market Category Vehicle Size Vehicle Style  \\\n",
       "0  Factory Tuner,Luxury,High-Performance      Compact         Coupe   \n",
       "1                     Luxury,Performance      Compact   Convertible   \n",
       "\n",
       "   highway MPG  city mpg  Popularity   MSRP  \n",
       "0           26        19        3916  46135  \n",
       "1           28        19        3916  40650  "
      ]
     },
     "execution_count": 9,
     "metadata": {},
     "output_type": "execute_result"
    }
   ],
   "source": [
    "df.head(2)"
   ]
  },
  {
   "cell_type": "code",
   "execution_count": 10,
   "metadata": {},
   "outputs": [
    {
     "data": {
      "text/html": [
       "<div>\n",
       "<style scoped>\n",
       "    .dataframe tbody tr th:only-of-type {\n",
       "        vertical-align: middle;\n",
       "    }\n",
       "\n",
       "    .dataframe tbody tr th {\n",
       "        vertical-align: top;\n",
       "    }\n",
       "\n",
       "    .dataframe thead th {\n",
       "        text-align: right;\n",
       "    }\n",
       "</style>\n",
       "<table border=\"1\" class=\"dataframe\">\n",
       "  <thead>\n",
       "    <tr style=\"text-align: right;\">\n",
       "      <th></th>\n",
       "      <th>make</th>\n",
       "      <th>model</th>\n",
       "      <th>year</th>\n",
       "      <th>engine_fuel_type</th>\n",
       "      <th>engine_hp</th>\n",
       "      <th>engine_cylinders</th>\n",
       "      <th>transmission_type</th>\n",
       "      <th>driven_wheels</th>\n",
       "      <th>number_of_doors</th>\n",
       "      <th>market_category</th>\n",
       "      <th>vehicle_size</th>\n",
       "      <th>vehicle_style</th>\n",
       "      <th>highway_mpg</th>\n",
       "      <th>city_mpg</th>\n",
       "      <th>popularity</th>\n",
       "      <th>msrp</th>\n",
       "    </tr>\n",
       "  </thead>\n",
       "  <tbody>\n",
       "    <tr>\n",
       "      <th>0</th>\n",
       "      <td>BMW</td>\n",
       "      <td>1 Series M</td>\n",
       "      <td>2011</td>\n",
       "      <td>premium unleaded (required)</td>\n",
       "      <td>335.0</td>\n",
       "      <td>6.0</td>\n",
       "      <td>MANUAL</td>\n",
       "      <td>rear wheel drive</td>\n",
       "      <td>2.0</td>\n",
       "      <td>Factory Tuner,Luxury,High-Performance</td>\n",
       "      <td>Compact</td>\n",
       "      <td>Coupe</td>\n",
       "      <td>26</td>\n",
       "      <td>19</td>\n",
       "      <td>3916</td>\n",
       "      <td>46135</td>\n",
       "    </tr>\n",
       "    <tr>\n",
       "      <th>1</th>\n",
       "      <td>BMW</td>\n",
       "      <td>1 Series</td>\n",
       "      <td>2011</td>\n",
       "      <td>premium unleaded (required)</td>\n",
       "      <td>300.0</td>\n",
       "      <td>6.0</td>\n",
       "      <td>MANUAL</td>\n",
       "      <td>rear wheel drive</td>\n",
       "      <td>2.0</td>\n",
       "      <td>Luxury,Performance</td>\n",
       "      <td>Compact</td>\n",
       "      <td>Convertible</td>\n",
       "      <td>28</td>\n",
       "      <td>19</td>\n",
       "      <td>3916</td>\n",
       "      <td>40650</td>\n",
       "    </tr>\n",
       "  </tbody>\n",
       "</table>\n",
       "</div>"
      ],
      "text/plain": [
       "  make       model  year             engine_fuel_type  engine_hp  \\\n",
       "0  BMW  1 Series M  2011  premium unleaded (required)      335.0   \n",
       "1  BMW    1 Series  2011  premium unleaded (required)      300.0   \n",
       "\n",
       "   engine_cylinders transmission_type     driven_wheels  number_of_doors  \\\n",
       "0               6.0            MANUAL  rear wheel drive              2.0   \n",
       "1               6.0            MANUAL  rear wheel drive              2.0   \n",
       "\n",
       "                         market_category vehicle_size vehicle_style  \\\n",
       "0  Factory Tuner,Luxury,High-Performance      Compact         Coupe   \n",
       "1                     Luxury,Performance      Compact   Convertible   \n",
       "\n",
       "   highway_mpg  city_mpg  popularity   msrp  \n",
       "0           26        19        3916  46135  \n",
       "1           28        19        3916  40650  "
      ]
     },
     "execution_count": 10,
     "metadata": {},
     "output_type": "execute_result"
    }
   ],
   "source": [
    "df.columns = df.columns.str.lower().str.replace(' ', '_')\n",
    "df.head(2)"
   ]
  },
  {
   "cell_type": "code",
   "execution_count": 11,
   "metadata": {},
   "outputs": [
    {
     "data": {
      "text/plain": [
       "make                  object\n",
       "model                 object\n",
       "year                   int64\n",
       "engine_fuel_type      object\n",
       "engine_hp            float64\n",
       "engine_cylinders     float64\n",
       "transmission_type     object\n",
       "driven_wheels         object\n",
       "number_of_doors      float64\n",
       "market_category       object\n",
       "vehicle_size          object\n",
       "vehicle_style         object\n",
       "highway_mpg            int64\n",
       "city_mpg               int64\n",
       "popularity             int64\n",
       "msrp                   int64\n",
       "dtype: object"
      ]
     },
     "execution_count": 11,
     "metadata": {},
     "output_type": "execute_result"
    }
   ],
   "source": [
    "df.dtypes"
   ]
  },
  {
   "cell_type": "code",
   "execution_count": 12,
   "metadata": {},
   "outputs": [
    {
     "data": {
      "text/plain": [
       "make                  True\n",
       "model                 True\n",
       "year                 False\n",
       "engine_fuel_type      True\n",
       "engine_hp            False\n",
       "engine_cylinders     False\n",
       "transmission_type     True\n",
       "driven_wheels         True\n",
       "number_of_doors      False\n",
       "market_category       True\n",
       "vehicle_size          True\n",
       "vehicle_style         True\n",
       "highway_mpg          False\n",
       "city_mpg             False\n",
       "popularity           False\n",
       "msrp                 False\n",
       "dtype: bool"
      ]
     },
     "execution_count": 12,
     "metadata": {},
     "output_type": "execute_result"
    }
   ],
   "source": [
    "df.dtypes == \"object\""
   ]
  },
  {
   "cell_type": "code",
   "execution_count": 13,
   "metadata": {},
   "outputs": [
    {
     "data": {
      "text/plain": [
       "make                 object\n",
       "model                object\n",
       "engine_fuel_type     object\n",
       "transmission_type    object\n",
       "driven_wheels        object\n",
       "market_category      object\n",
       "vehicle_size         object\n",
       "vehicle_style        object\n",
       "dtype: object"
      ]
     },
     "execution_count": 13,
     "metadata": {},
     "output_type": "execute_result"
    }
   ],
   "source": [
    "df.dtypes[df.dtypes == \"object\"]"
   ]
  },
  {
   "cell_type": "code",
   "execution_count": 14,
   "metadata": {},
   "outputs": [
    {
     "data": {
      "text/plain": [
       "pandas.core.series.Series"
      ]
     },
     "execution_count": 14,
     "metadata": {},
     "output_type": "execute_result"
    }
   ],
   "source": [
    "type(df.dtypes[df.dtypes == \"object\"])"
   ]
  },
  {
   "cell_type": "code",
   "execution_count": 15,
   "metadata": {},
   "outputs": [
    {
     "data": {
      "text/plain": [
       "Index(['make', 'model', 'engine_fuel_type', 'transmission_type',\n",
       "       'driven_wheels', 'market_category', 'vehicle_size', 'vehicle_style'],\n",
       "      dtype='object')"
      ]
     },
     "execution_count": 15,
     "metadata": {},
     "output_type": "execute_result"
    }
   ],
   "source": [
    "df.dtypes[df.dtypes == \"object\"].index"
   ]
  },
  {
   "cell_type": "code",
   "execution_count": 16,
   "metadata": {},
   "outputs": [],
   "source": [
    "string_columns = df.dtypes[df.dtypes == \"object\"].index"
   ]
  },
  {
   "cell_type": "code",
   "execution_count": 17,
   "metadata": {},
   "outputs": [],
   "source": [
    "for col in string_columns:\n",
    "    df[col] = df[col].str.lower().str.replace(' ', '_')"
   ]
  },
  {
   "cell_type": "code",
   "execution_count": 18,
   "metadata": {},
   "outputs": [
    {
     "data": {
      "text/html": [
       "<div>\n",
       "<style scoped>\n",
       "    .dataframe tbody tr th:only-of-type {\n",
       "        vertical-align: middle;\n",
       "    }\n",
       "\n",
       "    .dataframe tbody tr th {\n",
       "        vertical-align: top;\n",
       "    }\n",
       "\n",
       "    .dataframe thead th {\n",
       "        text-align: right;\n",
       "    }\n",
       "</style>\n",
       "<table border=\"1\" class=\"dataframe\">\n",
       "  <thead>\n",
       "    <tr style=\"text-align: right;\">\n",
       "      <th></th>\n",
       "      <th>make</th>\n",
       "      <th>model</th>\n",
       "      <th>year</th>\n",
       "      <th>engine_fuel_type</th>\n",
       "      <th>engine_hp</th>\n",
       "      <th>engine_cylinders</th>\n",
       "      <th>transmission_type</th>\n",
       "      <th>driven_wheels</th>\n",
       "      <th>number_of_doors</th>\n",
       "      <th>market_category</th>\n",
       "      <th>vehicle_size</th>\n",
       "      <th>vehicle_style</th>\n",
       "      <th>highway_mpg</th>\n",
       "      <th>city_mpg</th>\n",
       "      <th>popularity</th>\n",
       "      <th>msrp</th>\n",
       "    </tr>\n",
       "  </thead>\n",
       "  <tbody>\n",
       "    <tr>\n",
       "      <th>0</th>\n",
       "      <td>bmw</td>\n",
       "      <td>1_series_m</td>\n",
       "      <td>2011</td>\n",
       "      <td>premium_unleaded_(required)</td>\n",
       "      <td>335.0</td>\n",
       "      <td>6.0</td>\n",
       "      <td>manual</td>\n",
       "      <td>rear_wheel_drive</td>\n",
       "      <td>2.0</td>\n",
       "      <td>factory_tuner,luxury,high-performance</td>\n",
       "      <td>compact</td>\n",
       "      <td>coupe</td>\n",
       "      <td>26</td>\n",
       "      <td>19</td>\n",
       "      <td>3916</td>\n",
       "      <td>46135</td>\n",
       "    </tr>\n",
       "    <tr>\n",
       "      <th>1</th>\n",
       "      <td>bmw</td>\n",
       "      <td>1_series</td>\n",
       "      <td>2011</td>\n",
       "      <td>premium_unleaded_(required)</td>\n",
       "      <td>300.0</td>\n",
       "      <td>6.0</td>\n",
       "      <td>manual</td>\n",
       "      <td>rear_wheel_drive</td>\n",
       "      <td>2.0</td>\n",
       "      <td>luxury,performance</td>\n",
       "      <td>compact</td>\n",
       "      <td>convertible</td>\n",
       "      <td>28</td>\n",
       "      <td>19</td>\n",
       "      <td>3916</td>\n",
       "      <td>40650</td>\n",
       "    </tr>\n",
       "  </tbody>\n",
       "</table>\n",
       "</div>"
      ],
      "text/plain": [
       "  make       model  year             engine_fuel_type  engine_hp  \\\n",
       "0  bmw  1_series_m  2011  premium_unleaded_(required)      335.0   \n",
       "1  bmw    1_series  2011  premium_unleaded_(required)      300.0   \n",
       "\n",
       "   engine_cylinders transmission_type     driven_wheels  number_of_doors  \\\n",
       "0               6.0            manual  rear_wheel_drive              2.0   \n",
       "1               6.0            manual  rear_wheel_drive              2.0   \n",
       "\n",
       "                         market_category vehicle_size vehicle_style  \\\n",
       "0  factory_tuner,luxury,high-performance      compact         coupe   \n",
       "1                     luxury,performance      compact   convertible   \n",
       "\n",
       "   highway_mpg  city_mpg  popularity   msrp  \n",
       "0           26        19        3916  46135  \n",
       "1           28        19        3916  40650  "
      ]
     },
     "execution_count": 18,
     "metadata": {},
     "output_type": "execute_result"
    }
   ],
   "source": [
    "df.head(2)"
   ]
  },
  {
   "cell_type": "markdown",
   "metadata": {},
   "source": [
    "## EDA section"
   ]
  },
  {
   "cell_type": "code",
   "execution_count": 19,
   "metadata": {},
   "outputs": [
    {
     "data": {
      "text/plain": [
       "11914"
      ]
     },
     "execution_count": 19,
     "metadata": {},
     "output_type": "execute_result"
    }
   ],
   "source": [
    "len(df)"
   ]
  },
  {
   "cell_type": "code",
   "execution_count": 20,
   "metadata": {},
   "outputs": [
    {
     "name": "stdout",
     "output_type": "stream",
     "text": [
      "make\n",
      "total unique values: 48\n",
      "example uniques:  ['bmw' 'audi' 'fiat']\n",
      "\n",
      "model\n",
      "total unique values: 914\n",
      "example uniques:  ['1_series_m' '1_series' '100']\n",
      "\n",
      "year\n",
      "total unique values: 28\n",
      "example uniques:  [2011 2012 2013]\n",
      "\n",
      "engine_fuel_type\n",
      "total unique values: 11\n",
      "example uniques:  ['premium_unleaded_(required)' 'regular_unleaded'\n",
      " 'premium_unleaded_(recommended)']\n",
      "\n",
      "engine_hp\n",
      "total unique values: 357\n",
      "example uniques:  [335. 300. 230.]\n",
      "\n",
      "engine_cylinders\n",
      "total unique values: 10\n",
      "example uniques:  [6. 4. 5.]\n",
      "\n",
      "transmission_type\n",
      "total unique values: 5\n",
      "example uniques:  ['manual' 'automatic' 'automated_manual']\n",
      "\n",
      "driven_wheels\n",
      "total unique values: 4\n",
      "example uniques:  ['rear_wheel_drive' 'front_wheel_drive' 'all_wheel_drive']\n",
      "\n",
      "number_of_doors\n",
      "total unique values: 4\n",
      "example uniques:  [2. 4. 3.]\n",
      "\n",
      "market_category\n",
      "total unique values: 72\n",
      "example uniques:  ['factory_tuner,luxury,high-performance' 'luxury,performance'\n",
      " 'luxury,high-performance']\n",
      "\n",
      "vehicle_size\n",
      "total unique values: 3\n",
      "example uniques:  ['compact' 'midsize' 'large']\n",
      "\n",
      "vehicle_style\n",
      "total unique values: 16\n",
      "example uniques:  ['coupe' 'convertible' 'sedan']\n",
      "\n",
      "highway_mpg\n",
      "total unique values: 59\n",
      "example uniques:  [26 28 27]\n",
      "\n",
      "city_mpg\n",
      "total unique values: 69\n",
      "example uniques:  [19 20 18]\n",
      "\n",
      "popularity\n",
      "total unique values: 48\n",
      "example uniques:  [3916 3105  819]\n",
      "\n",
      "msrp\n",
      "total unique values: 6049\n",
      "example uniques:  [46135 40650 36350]\n",
      "\n"
     ]
    }
   ],
   "source": [
    "for c in df.columns:\n",
    "    print(c)\n",
    "    print(f\"total unique values: {len(df[c].unique())}\")\n",
    "    print(\"example uniques: \", df[c].unique()[:3])\n",
    "    print()"
   ]
  },
  {
   "cell_type": "code",
   "execution_count": 21,
   "metadata": {},
   "outputs": [
    {
     "data": {
      "text/plain": [
       "<Axes: xlabel='msrp', ylabel='Count'>"
      ]
     },
     "execution_count": 21,
     "metadata": {},
     "output_type": "execute_result"
    },
    {
     "data": {
      "image/png": "[encoded data removed]",
      "text/plain": [
       "<Figure size 640x480 with 1 Axes>"
      ]
     },
     "metadata": {},
     "output_type": "display_data"
    }
   ],
   "source": [
    "sns.histplot(df.msrp, bins=25)"
   ]
  },
  {
   "cell_type": "code",
   "execution_count": 22,
   "metadata": {},
   "outputs": [
    {
     "data": {
      "text/plain": [
       "<Axes: xlabel='msrp', ylabel='Count'>"
      ]
     },
     "execution_count": 22,
     "metadata": {},
     "output_type": "execute_result"
    },
    {
     "data": {
      "image/png": "[encoded data removed]",
      "text/plain": [
       "<Figure size 640x480 with 1 Axes>"
      ]
     },
     "metadata": {},
     "output_type": "display_data"
    }
   ],
   "source": [
    "# drop long tails\n",
    "\n",
    "sns.histplot(df.msrp[df.msrp < 100000], bins=50, kde=True)"
   ]
  },
  {
   "cell_type": "code",
   "execution_count": 23,
   "metadata": {},
   "outputs": [
    {
     "data": {
      "text/plain": [
       "<Axes: xlabel='msrp', ylabel='Count'>"
      ]
     },
     "execution_count": 23,
     "metadata": {},
     "output_type": "execute_result"
    },
    {
     "data": {
      "image/png": "[encoded data removed]",
      "text/plain": [
       "<Figure size 640x480 with 1 Axes>"
      ]
     },
     "metadata": {},
     "output_type": "display_data"
    }
   ],
   "source": [
    "# long conversion to scale out tails\n",
    "\n",
    "price_logs = np.log1p(df.msrp)\n",
    "sns.histplot(price_logs, bins=50, kde=True)"
   ]
  },
  {
   "cell_type": "code",
   "execution_count": 24,
   "metadata": {},
   "outputs": [
    {
     "data": {
      "text/plain": [
       "make                    0\n",
       "model                   0\n",
       "year                    0\n",
       "engine_fuel_type        3\n",
       "engine_hp              69\n",
       "engine_cylinders       30\n",
       "transmission_type       0\n",
       "driven_wheels           0\n",
       "number_of_doors         6\n",
       "market_category      3742\n",
       "vehicle_size            0\n",
       "vehicle_style           0\n",
       "highway_mpg             0\n",
       "city_mpg                0\n",
       "popularity              0\n",
       "msrp                    0\n",
       "dtype: int64"
      ]
     },
     "execution_count": 24,
     "metadata": {},
     "output_type": "execute_result"
    }
   ],
   "source": [
    "df.isna().sum()"
   ]
  },
  {
   "cell_type": "code",
   "execution_count": 25,
   "metadata": {},
   "outputs": [
    {
     "data": {
      "text/plain": [
       "make                    0\n",
       "model                   0\n",
       "year                    0\n",
       "engine_fuel_type        3\n",
       "engine_hp              69\n",
       "engine_cylinders       30\n",
       "transmission_type       0\n",
       "driven_wheels           0\n",
       "number_of_doors         6\n",
       "market_category      3742\n",
       "vehicle_size            0\n",
       "vehicle_style           0\n",
       "highway_mpg             0\n",
       "city_mpg                0\n",
       "popularity              0\n",
       "msrp                    0\n",
       "dtype: int64"
      ]
     },
     "execution_count": 25,
     "metadata": {},
     "output_type": "execute_result"
    }
   ],
   "source": [
    "df.isnull().sum()"
   ]
  },
  {
   "cell_type": "markdown",
   "metadata": {},
   "source": [
    "## Validation framework"
   ]
  },
  {
   "cell_type": "code",
   "execution_count": 26,
   "metadata": {},
   "outputs": [
    {
     "name": "stdout",
     "output_type": "stream",
     "text": [
      "11914 7150 2382 2382\n"
     ]
    }
   ],
   "source": [
    "m = len(df)\n",
    "m_val = int(m * 0.2)\n",
    "m_test = int(m * 0.2)\n",
    "m_train = m - m_val - m_test\n",
    "print(m, m_train, m_val, m_test)"
   ]
  },
  {
   "cell_type": "code",
   "execution_count": 27,
   "metadata": {},
   "outputs": [
    {
     "data": {
      "text/html": [
       "<div>\n",
       "<style scoped>\n",
       "    .dataframe tbody tr th:only-of-type {\n",
       "        vertical-align: middle;\n",
       "    }\n",
       "\n",
       "    .dataframe tbody tr th {\n",
       "        vertical-align: top;\n",
       "    }\n",
       "\n",
       "    .dataframe thead th {\n",
       "        text-align: right;\n",
       "    }\n",
       "</style>\n",
       "<table border=\"1\" class=\"dataframe\">\n",
       "  <thead>\n",
       "    <tr style=\"text-align: right;\">\n",
       "      <th></th>\n",
       "      <th>make</th>\n",
       "      <th>model</th>\n",
       "      <th>year</th>\n",
       "      <th>engine_fuel_type</th>\n",
       "      <th>engine_hp</th>\n",
       "      <th>engine_cylinders</th>\n",
       "      <th>transmission_type</th>\n",
       "      <th>driven_wheels</th>\n",
       "      <th>number_of_doors</th>\n",
       "      <th>market_category</th>\n",
       "      <th>vehicle_size</th>\n",
       "      <th>vehicle_style</th>\n",
       "      <th>highway_mpg</th>\n",
       "      <th>city_mpg</th>\n",
       "      <th>popularity</th>\n",
       "      <th>msrp</th>\n",
       "    </tr>\n",
       "  </thead>\n",
       "  <tbody>\n",
       "    <tr>\n",
       "      <th>2290</th>\n",
       "      <td>gmc</td>\n",
       "      <td>canyon</td>\n",
       "      <td>2015</td>\n",
       "      <td>regular_unleaded</td>\n",
       "      <td>305.0</td>\n",
       "      <td>6.0</td>\n",
       "      <td>automatic</td>\n",
       "      <td>rear_wheel_drive</td>\n",
       "      <td>4.0</td>\n",
       "      <td>NaN</td>\n",
       "      <td>compact</td>\n",
       "      <td>crew_cab_pickup</td>\n",
       "      <td>26</td>\n",
       "      <td>18</td>\n",
       "      <td>549</td>\n",
       "      <td>33420</td>\n",
       "    </tr>\n",
       "    <tr>\n",
       "      <th>2230</th>\n",
       "      <td>toyota</td>\n",
       "      <td>camry_solara</td>\n",
       "      <td>2007</td>\n",
       "      <td>regular_unleaded</td>\n",
       "      <td>210.0</td>\n",
       "      <td>6.0</td>\n",
       "      <td>automatic</td>\n",
       "      <td>front_wheel_drive</td>\n",
       "      <td>2.0</td>\n",
       "      <td>NaN</td>\n",
       "      <td>midsize</td>\n",
       "      <td>convertible</td>\n",
       "      <td>26</td>\n",
       "      <td>18</td>\n",
       "      <td>2031</td>\n",
       "      <td>30460</td>\n",
       "    </tr>\n",
       "    <tr>\n",
       "      <th>238</th>\n",
       "      <td>chrysler</td>\n",
       "      <td>300m</td>\n",
       "      <td>2004</td>\n",
       "      <td>premium_unleaded_(required)</td>\n",
       "      <td>255.0</td>\n",
       "      <td>6.0</td>\n",
       "      <td>automatic</td>\n",
       "      <td>front_wheel_drive</td>\n",
       "      <td>4.0</td>\n",
       "      <td>performance</td>\n",
       "      <td>large</td>\n",
       "      <td>sedan</td>\n",
       "      <td>25</td>\n",
       "      <td>16</td>\n",
       "      <td>1013</td>\n",
       "      <td>32615</td>\n",
       "    </tr>\n",
       "    <tr>\n",
       "      <th>2687</th>\n",
       "      <td>mercedes-benz</td>\n",
       "      <td>cla-class</td>\n",
       "      <td>2015</td>\n",
       "      <td>premium_unleaded_(required)</td>\n",
       "      <td>208.0</td>\n",
       "      <td>4.0</td>\n",
       "      <td>automated_manual</td>\n",
       "      <td>front_wheel_drive</td>\n",
       "      <td>4.0</td>\n",
       "      <td>luxury</td>\n",
       "      <td>midsize</td>\n",
       "      <td>sedan</td>\n",
       "      <td>38</td>\n",
       "      <td>26</td>\n",
       "      <td>617</td>\n",
       "      <td>31500</td>\n",
       "    </tr>\n",
       "    <tr>\n",
       "      <th>7199</th>\n",
       "      <td>volkswagen</td>\n",
       "      <td>new_beetle</td>\n",
       "      <td>2008</td>\n",
       "      <td>regular_unleaded</td>\n",
       "      <td>150.0</td>\n",
       "      <td>5.0</td>\n",
       "      <td>automatic</td>\n",
       "      <td>front_wheel_drive</td>\n",
       "      <td>2.0</td>\n",
       "      <td>NaN</td>\n",
       "      <td>compact</td>\n",
       "      <td>convertible</td>\n",
       "      <td>28</td>\n",
       "      <td>20</td>\n",
       "      <td>873</td>\n",
       "      <td>25740</td>\n",
       "    </tr>\n",
       "    <tr>\n",
       "      <th>5975</th>\n",
       "      <td>lexus</td>\n",
       "      <td>is_250</td>\n",
       "      <td>2015</td>\n",
       "      <td>premium_unleaded_(required)</td>\n",
       "      <td>204.0</td>\n",
       "      <td>6.0</td>\n",
       "      <td>automatic</td>\n",
       "      <td>all_wheel_drive</td>\n",
       "      <td>4.0</td>\n",
       "      <td>luxury</td>\n",
       "      <td>midsize</td>\n",
       "      <td>sedan</td>\n",
       "      <td>27</td>\n",
       "      <td>20</td>\n",
       "      <td>454</td>\n",
       "      <td>43690</td>\n",
       "    </tr>\n",
       "    <tr>\n",
       "      <th>3478</th>\n",
       "      <td>dodge</td>\n",
       "      <td>dakota</td>\n",
       "      <td>2010</td>\n",
       "      <td>regular_unleaded</td>\n",
       "      <td>210.0</td>\n",
       "      <td>6.0</td>\n",
       "      <td>automatic</td>\n",
       "      <td>four_wheel_drive</td>\n",
       "      <td>4.0</td>\n",
       "      <td>flex_fuel</td>\n",
       "      <td>compact</td>\n",
       "      <td>crew_cab_pickup</td>\n",
       "      <td>18</td>\n",
       "      <td>14</td>\n",
       "      <td>1851</td>\n",
       "      <td>33180</td>\n",
       "    </tr>\n",
       "    <tr>\n",
       "      <th>7621</th>\n",
       "      <td>honda</td>\n",
       "      <td>pilot</td>\n",
       "      <td>2016</td>\n",
       "      <td>regular_unleaded</td>\n",
       "      <td>280.0</td>\n",
       "      <td>6.0</td>\n",
       "      <td>automatic</td>\n",
       "      <td>front_wheel_drive</td>\n",
       "      <td>4.0</td>\n",
       "      <td>crossover</td>\n",
       "      <td>midsize</td>\n",
       "      <td>4dr_suv</td>\n",
       "      <td>27</td>\n",
       "      <td>19</td>\n",
       "      <td>2202</td>\n",
       "      <td>37655</td>\n",
       "    </tr>\n",
       "    <tr>\n",
       "      <th>7437</th>\n",
       "      <td>buick</td>\n",
       "      <td>park_avenue</td>\n",
       "      <td>2003</td>\n",
       "      <td>premium_unleaded_(required)</td>\n",
       "      <td>240.0</td>\n",
       "      <td>6.0</td>\n",
       "      <td>automatic</td>\n",
       "      <td>front_wheel_drive</td>\n",
       "      <td>4.0</td>\n",
       "      <td>performance</td>\n",
       "      <td>large</td>\n",
       "      <td>sedan</td>\n",
       "      <td>25</td>\n",
       "      <td>16</td>\n",
       "      <td>155</td>\n",
       "      <td>39725</td>\n",
       "    </tr>\n",
       "    <tr>\n",
       "      <th>33</th>\n",
       "      <td>fiat</td>\n",
       "      <td>124_spider</td>\n",
       "      <td>2017</td>\n",
       "      <td>premium_unleaded_(recommended)</td>\n",
       "      <td>160.0</td>\n",
       "      <td>4.0</td>\n",
       "      <td>manual</td>\n",
       "      <td>rear_wheel_drive</td>\n",
       "      <td>2.0</td>\n",
       "      <td>performance</td>\n",
       "      <td>compact</td>\n",
       "      <td>convertible</td>\n",
       "      <td>35</td>\n",
       "      <td>26</td>\n",
       "      <td>819</td>\n",
       "      <td>24995</td>\n",
       "    </tr>\n",
       "  </tbody>\n",
       "</table>\n",
       "</div>"
      ],
      "text/plain": [
       "               make         model  year                engine_fuel_type  \\\n",
       "2290            gmc        canyon  2015                regular_unleaded   \n",
       "2230         toyota  camry_solara  2007                regular_unleaded   \n",
       "238        chrysler          300m  2004     premium_unleaded_(required)   \n",
       "2687  mercedes-benz     cla-class  2015     premium_unleaded_(required)   \n",
       "7199     volkswagen    new_beetle  2008                regular_unleaded   \n",
       "5975          lexus        is_250  2015     premium_unleaded_(required)   \n",
       "3478          dodge        dakota  2010                regular_unleaded   \n",
       "7621          honda         pilot  2016                regular_unleaded   \n",
       "7437          buick   park_avenue  2003     premium_unleaded_(required)   \n",
       "33             fiat    124_spider  2017  premium_unleaded_(recommended)   \n",
       "\n",
       "      engine_hp  engine_cylinders transmission_type      driven_wheels  \\\n",
       "2290      305.0               6.0         automatic   rear_wheel_drive   \n",
       "2230      210.0               6.0         automatic  front_wheel_drive   \n",
       "238       255.0               6.0         automatic  front_wheel_drive   \n",
       "2687      208.0               4.0  automated_manual  front_wheel_drive   \n",
       "7199      150.0               5.0         automatic  front_wheel_drive   \n",
       "5975      204.0               6.0         automatic    all_wheel_drive   \n",
       "3478      210.0               6.0         automatic   four_wheel_drive   \n",
       "7621      280.0               6.0         automatic  front_wheel_drive   \n",
       "7437      240.0               6.0         automatic  front_wheel_drive   \n",
       "33        160.0               4.0            manual   rear_wheel_drive   \n",
       "\n",
       "      number_of_doors market_category vehicle_size    vehicle_style  \\\n",
       "2290              4.0             NaN      compact  crew_cab_pickup   \n",
       "2230              2.0             NaN      midsize      convertible   \n",
       "238               4.0     performance        large            sedan   \n",
       "2687              4.0          luxury      midsize            sedan   \n",
       "7199              2.0             NaN      compact      convertible   \n",
       "5975              4.0          luxury      midsize            sedan   \n",
       "3478              4.0       flex_fuel      compact  crew_cab_pickup   \n",
       "7621              4.0       crossover      midsize          4dr_suv   \n",
       "7437              4.0     performance        large            sedan   \n",
       "33                2.0     performance      compact      convertible   \n",
       "\n",
       "      highway_mpg  city_mpg  popularity   msrp  \n",
       "2290           26        18         549  33420  \n",
       "2230           26        18        2031  30460  \n",
       "238            25        16        1013  32615  \n",
       "2687           38        26         617  31500  \n",
       "7199           28        20         873  25740  \n",
       "5975           27        20         454  43690  \n",
       "3478           18        14        1851  33180  \n",
       "7621           27        19        2202  37655  \n",
       "7437           25        16         155  39725  \n",
       "33             35        26         819  24995  "
      ]
     },
     "execution_count": 27,
     "metadata": {},
     "output_type": "execute_result"
    }
   ],
   "source": [
    "df = df.sample(frac=1)\n",
    "\n",
    "df_train = df.iloc[:m_train]\n",
    "df_val = df.iloc[m_train:m_train+m_val]\n",
    "df_test = df.iloc[m_train+m_val:]\n",
    "\n",
    "assert (len(df_train) + len(df_val) + len(df_test)) == m\n",
    "\n",
    "df_train.head(10)"
   ]
  },
  {
   "cell_type": "code",
   "execution_count": 28,
   "metadata": {},
   "outputs": [
    {
     "data": {
      "text/html": [
       "<div>\n",
       "<style scoped>\n",
       "    .dataframe tbody tr th:only-of-type {\n",
       "        vertical-align: middle;\n",
       "    }\n",
       "\n",
       "    .dataframe tbody tr th {\n",
       "        vertical-align: top;\n",
       "    }\n",
       "\n",
       "    .dataframe thead th {\n",
       "        text-align: right;\n",
       "    }\n",
       "</style>\n",
       "<table border=\"1\" class=\"dataframe\">\n",
       "  <thead>\n",
       "    <tr style=\"text-align: right;\">\n",
       "      <th></th>\n",
       "      <th>make</th>\n",
       "      <th>model</th>\n",
       "      <th>year</th>\n",
       "      <th>engine_fuel_type</th>\n",
       "      <th>engine_hp</th>\n",
       "      <th>engine_cylinders</th>\n",
       "      <th>transmission_type</th>\n",
       "      <th>driven_wheels</th>\n",
       "      <th>number_of_doors</th>\n",
       "      <th>market_category</th>\n",
       "      <th>vehicle_size</th>\n",
       "      <th>vehicle_style</th>\n",
       "      <th>highway_mpg</th>\n",
       "      <th>city_mpg</th>\n",
       "      <th>popularity</th>\n",
       "      <th>msrp</th>\n",
       "    </tr>\n",
       "  </thead>\n",
       "  <tbody>\n",
       "    <tr>\n",
       "      <th>513</th>\n",
       "      <td>bmw</td>\n",
       "      <td>5_series_gran_turismo</td>\n",
       "      <td>2017</td>\n",
       "      <td>premium_unleaded_(required)</td>\n",
       "      <td>300.0</td>\n",
       "      <td>6.0</td>\n",
       "      <td>automatic</td>\n",
       "      <td>rear_wheel_drive</td>\n",
       "      <td>4.0</td>\n",
       "      <td>hatchback,luxury,performance</td>\n",
       "      <td>large</td>\n",
       "      <td>4dr_hatchback</td>\n",
       "      <td>27</td>\n",
       "      <td>19</td>\n",
       "      <td>3916</td>\n",
       "      <td>60900</td>\n",
       "    </tr>\n",
       "    <tr>\n",
       "      <th>5164</th>\n",
       "      <td>infiniti</td>\n",
       "      <td>g37</td>\n",
       "      <td>2009</td>\n",
       "      <td>premium_unleaded_(required)</td>\n",
       "      <td>328.0</td>\n",
       "      <td>6.0</td>\n",
       "      <td>automatic</td>\n",
       "      <td>rear_wheel_drive</td>\n",
       "      <td>4.0</td>\n",
       "      <td>luxury</td>\n",
       "      <td>midsize</td>\n",
       "      <td>sedan</td>\n",
       "      <td>26</td>\n",
       "      <td>18</td>\n",
       "      <td>190</td>\n",
       "      <td>33250</td>\n",
       "    </tr>\n",
       "    <tr>\n",
       "      <th>10331</th>\n",
       "      <td>toyota</td>\n",
       "      <td>tercel</td>\n",
       "      <td>1996</td>\n",
       "      <td>regular_unleaded</td>\n",
       "      <td>93.0</td>\n",
       "      <td>4.0</td>\n",
       "      <td>manual</td>\n",
       "      <td>front_wheel_drive</td>\n",
       "      <td>4.0</td>\n",
       "      <td>NaN</td>\n",
       "      <td>compact</td>\n",
       "      <td>sedan</td>\n",
       "      <td>35</td>\n",
       "      <td>27</td>\n",
       "      <td>2031</td>\n",
       "      <td>2000</td>\n",
       "    </tr>\n",
       "    <tr>\n",
       "      <th>7723</th>\n",
       "      <td>mazda</td>\n",
       "      <td>protege5</td>\n",
       "      <td>2002</td>\n",
       "      <td>regular_unleaded</td>\n",
       "      <td>130.0</td>\n",
       "      <td>4.0</td>\n",
       "      <td>manual</td>\n",
       "      <td>front_wheel_drive</td>\n",
       "      <td>4.0</td>\n",
       "      <td>NaN</td>\n",
       "      <td>compact</td>\n",
       "      <td>wagon</td>\n",
       "      <td>28</td>\n",
       "      <td>22</td>\n",
       "      <td>586</td>\n",
       "      <td>16455</td>\n",
       "    </tr>\n",
       "    <tr>\n",
       "      <th>10072</th>\n",
       "      <td>pontiac</td>\n",
       "      <td>sunbird</td>\n",
       "      <td>1994</td>\n",
       "      <td>regular_unleaded</td>\n",
       "      <td>110.0</td>\n",
       "      <td>4.0</td>\n",
       "      <td>manual</td>\n",
       "      <td>front_wheel_drive</td>\n",
       "      <td>2.0</td>\n",
       "      <td>NaN</td>\n",
       "      <td>compact</td>\n",
       "      <td>coupe</td>\n",
       "      <td>32</td>\n",
       "      <td>22</td>\n",
       "      <td>210</td>\n",
       "      <td>2000</td>\n",
       "    </tr>\n",
       "    <tr>\n",
       "      <th>6386</th>\n",
       "      <td>nissan</td>\n",
       "      <td>leaf</td>\n",
       "      <td>2014</td>\n",
       "      <td>electric</td>\n",
       "      <td>NaN</td>\n",
       "      <td>0.0</td>\n",
       "      <td>direct_drive</td>\n",
       "      <td>front_wheel_drive</td>\n",
       "      <td>4.0</td>\n",
       "      <td>hatchback</td>\n",
       "      <td>compact</td>\n",
       "      <td>4dr_hatchback</td>\n",
       "      <td>101</td>\n",
       "      <td>126</td>\n",
       "      <td>2009</td>\n",
       "      <td>32000</td>\n",
       "    </tr>\n",
       "    <tr>\n",
       "      <th>7286</th>\n",
       "      <td>lexus</td>\n",
       "      <td>nx_300h</td>\n",
       "      <td>2017</td>\n",
       "      <td>regular_unleaded</td>\n",
       "      <td>194.0</td>\n",
       "      <td>4.0</td>\n",
       "      <td>automatic</td>\n",
       "      <td>all_wheel_drive</td>\n",
       "      <td>4.0</td>\n",
       "      <td>crossover,luxury,hybrid</td>\n",
       "      <td>midsize</td>\n",
       "      <td>4dr_suv</td>\n",
       "      <td>30</td>\n",
       "      <td>33</td>\n",
       "      <td>454</td>\n",
       "      <td>39720</td>\n",
       "    </tr>\n",
       "    <tr>\n",
       "      <th>2085</th>\n",
       "      <td>mercedes-benz</td>\n",
       "      <td>c-class</td>\n",
       "      <td>2017</td>\n",
       "      <td>premium_unleaded_(required)</td>\n",
       "      <td>241.0</td>\n",
       "      <td>4.0</td>\n",
       "      <td>automatic</td>\n",
       "      <td>rear_wheel_drive</td>\n",
       "      <td>4.0</td>\n",
       "      <td>luxury</td>\n",
       "      <td>midsize</td>\n",
       "      <td>sedan</td>\n",
       "      <td>34</td>\n",
       "      <td>24</td>\n",
       "      <td>617</td>\n",
       "      <td>41675</td>\n",
       "    </tr>\n",
       "    <tr>\n",
       "      <th>2728</th>\n",
       "      <td>mercedes-benz</td>\n",
       "      <td>cls-class</td>\n",
       "      <td>2016</td>\n",
       "      <td>premium_unleaded_(required)</td>\n",
       "      <td>329.0</td>\n",
       "      <td>6.0</td>\n",
       "      <td>automatic</td>\n",
       "      <td>all_wheel_drive</td>\n",
       "      <td>4.0</td>\n",
       "      <td>luxury,performance</td>\n",
       "      <td>midsize</td>\n",
       "      <td>sedan</td>\n",
       "      <td>26</td>\n",
       "      <td>19</td>\n",
       "      <td>617</td>\n",
       "      <td>69400</td>\n",
       "    </tr>\n",
       "    <tr>\n",
       "      <th>5883</th>\n",
       "      <td>subaru</td>\n",
       "      <td>impreza</td>\n",
       "      <td>2016</td>\n",
       "      <td>regular_unleaded</td>\n",
       "      <td>148.0</td>\n",
       "      <td>4.0</td>\n",
       "      <td>automatic</td>\n",
       "      <td>all_wheel_drive</td>\n",
       "      <td>4.0</td>\n",
       "      <td>hatchback</td>\n",
       "      <td>compact</td>\n",
       "      <td>4dr_hatchback</td>\n",
       "      <td>37</td>\n",
       "      <td>28</td>\n",
       "      <td>640</td>\n",
       "      <td>23095</td>\n",
       "    </tr>\n",
       "  </tbody>\n",
       "</table>\n",
       "</div>"
      ],
      "text/plain": [
       "                make                  model  year  \\\n",
       "513              bmw  5_series_gran_turismo  2017   \n",
       "5164        infiniti                    g37  2009   \n",
       "10331         toyota                 tercel  1996   \n",
       "7723           mazda               protege5  2002   \n",
       "10072        pontiac                sunbird  1994   \n",
       "6386          nissan                   leaf  2014   \n",
       "7286           lexus                nx_300h  2017   \n",
       "2085   mercedes-benz                c-class  2017   \n",
       "2728   mercedes-benz              cls-class  2016   \n",
       "5883          subaru                impreza  2016   \n",
       "\n",
       "                  engine_fuel_type  engine_hp  engine_cylinders  \\\n",
       "513    premium_unleaded_(required)      300.0               6.0   \n",
       "5164   premium_unleaded_(required)      328.0               6.0   \n",
       "10331             regular_unleaded       93.0               4.0   \n",
       "7723              regular_unleaded      130.0               4.0   \n",
       "10072             regular_unleaded      110.0               4.0   \n",
       "6386                      electric        NaN               0.0   \n",
       "7286              regular_unleaded      194.0               4.0   \n",
       "2085   premium_unleaded_(required)      241.0               4.0   \n",
       "2728   premium_unleaded_(required)      329.0               6.0   \n",
       "5883              regular_unleaded      148.0               4.0   \n",
       "\n",
       "      transmission_type      driven_wheels  number_of_doors  \\\n",
       "513           automatic   rear_wheel_drive              4.0   \n",
       "5164          automatic   rear_wheel_drive              4.0   \n",
       "10331            manual  front_wheel_drive              4.0   \n",
       "7723             manual  front_wheel_drive              4.0   \n",
       "10072            manual  front_wheel_drive              2.0   \n",
       "6386       direct_drive  front_wheel_drive              4.0   \n",
       "7286          automatic    all_wheel_drive              4.0   \n",
       "2085          automatic   rear_wheel_drive              4.0   \n",
       "2728          automatic    all_wheel_drive              4.0   \n",
       "5883          automatic    all_wheel_drive              4.0   \n",
       "\n",
       "                    market_category vehicle_size  vehicle_style  highway_mpg  \\\n",
       "513    hatchback,luxury,performance        large  4dr_hatchback           27   \n",
       "5164                         luxury      midsize          sedan           26   \n",
       "10331                           NaN      compact          sedan           35   \n",
       "7723                            NaN      compact          wagon           28   \n",
       "10072                           NaN      compact          coupe           32   \n",
       "6386                      hatchback      compact  4dr_hatchback          101   \n",
       "7286        crossover,luxury,hybrid      midsize        4dr_suv           30   \n",
       "2085                         luxury      midsize          sedan           34   \n",
       "2728             luxury,performance      midsize          sedan           26   \n",
       "5883                      hatchback      compact  4dr_hatchback           37   \n",
       "\n",
       "       city_mpg  popularity   msrp  \n",
       "513          19        3916  60900  \n",
       "5164         18         190  33250  \n",
       "10331        27        2031   2000  \n",
       "7723         22         586  16455  \n",
       "10072        22         210   2000  \n",
       "6386        126        2009  32000  \n",
       "7286         33         454  39720  \n",
       "2085         24         617  41675  \n",
       "2728         19         617  69400  \n",
       "5883         28         640  23095  "
      ]
     },
     "execution_count": 28,
     "metadata": {},
     "output_type": "execute_result"
    }
   ],
   "source": [
    "# alternative shuffle - deterministic\n",
    "\n",
    "idx = np.arange(m)\n",
    "np.random.seed(1)\n",
    "np.random.shuffle(idx)\n",
    "\n",
    "df_train = df.iloc[idx[:m_train]]\n",
    "df_val = df.iloc[idx[m_train:m_train+m_val]]\n",
    "df_test = df.iloc[idx[m_train+m_val:]]\n",
    "\n",
    "assert (len(df_train) + len(df_val) + len(df_test)) == m\n",
    "\n",
    "df_train.head(10)"
   ]
  },
  {
   "cell_type": "code",
   "execution_count": 29,
   "metadata": {},
   "outputs": [
    {
     "data": {
      "text/html": [
       "<div>\n",
       "<style scoped>\n",
       "    .dataframe tbody tr th:only-of-type {\n",
       "        vertical-align: middle;\n",
       "    }\n",
       "\n",
       "    .dataframe tbody tr th {\n",
       "        vertical-align: top;\n",
       "    }\n",
       "\n",
       "    .dataframe thead th {\n",
       "        text-align: right;\n",
       "    }\n",
       "</style>\n",
       "<table border=\"1\" class=\"dataframe\">\n",
       "  <thead>\n",
       "    <tr style=\"text-align: right;\">\n",
       "      <th></th>\n",
       "      <th>make</th>\n",
       "      <th>model</th>\n",
       "      <th>year</th>\n",
       "      <th>engine_fuel_type</th>\n",
       "      <th>engine_hp</th>\n",
       "      <th>engine_cylinders</th>\n",
       "      <th>transmission_type</th>\n",
       "      <th>driven_wheels</th>\n",
       "      <th>number_of_doors</th>\n",
       "      <th>market_category</th>\n",
       "      <th>vehicle_size</th>\n",
       "      <th>vehicle_style</th>\n",
       "      <th>highway_mpg</th>\n",
       "      <th>city_mpg</th>\n",
       "      <th>popularity</th>\n",
       "    </tr>\n",
       "  </thead>\n",
       "  <tbody>\n",
       "    <tr>\n",
       "      <th>513</th>\n",
       "      <td>bmw</td>\n",
       "      <td>5_series_gran_turismo</td>\n",
       "      <td>2017</td>\n",
       "      <td>premium_unleaded_(required)</td>\n",
       "      <td>300.0</td>\n",
       "      <td>6.0</td>\n",
       "      <td>automatic</td>\n",
       "      <td>rear_wheel_drive</td>\n",
       "      <td>4.0</td>\n",
       "      <td>hatchback,luxury,performance</td>\n",
       "      <td>large</td>\n",
       "      <td>4dr_hatchback</td>\n",
       "      <td>27</td>\n",
       "      <td>19</td>\n",
       "      <td>3916</td>\n",
       "    </tr>\n",
       "    <tr>\n",
       "      <th>5164</th>\n",
       "      <td>infiniti</td>\n",
       "      <td>g37</td>\n",
       "      <td>2009</td>\n",
       "      <td>premium_unleaded_(required)</td>\n",
       "      <td>328.0</td>\n",
       "      <td>6.0</td>\n",
       "      <td>automatic</td>\n",
       "      <td>rear_wheel_drive</td>\n",
       "      <td>4.0</td>\n",
       "      <td>luxury</td>\n",
       "      <td>midsize</td>\n",
       "      <td>sedan</td>\n",
       "      <td>26</td>\n",
       "      <td>18</td>\n",
       "      <td>190</td>\n",
       "    </tr>\n",
       "    <tr>\n",
       "      <th>10331</th>\n",
       "      <td>toyota</td>\n",
       "      <td>tercel</td>\n",
       "      <td>1996</td>\n",
       "      <td>regular_unleaded</td>\n",
       "      <td>93.0</td>\n",
       "      <td>4.0</td>\n",
       "      <td>manual</td>\n",
       "      <td>front_wheel_drive</td>\n",
       "      <td>4.0</td>\n",
       "      <td>NaN</td>\n",
       "      <td>compact</td>\n",
       "      <td>sedan</td>\n",
       "      <td>35</td>\n",
       "      <td>27</td>\n",
       "      <td>2031</td>\n",
       "    </tr>\n",
       "    <tr>\n",
       "      <th>7723</th>\n",
       "      <td>mazda</td>\n",
       "      <td>protege5</td>\n",
       "      <td>2002</td>\n",
       "      <td>regular_unleaded</td>\n",
       "      <td>130.0</td>\n",
       "      <td>4.0</td>\n",
       "      <td>manual</td>\n",
       "      <td>front_wheel_drive</td>\n",
       "      <td>4.0</td>\n",
       "      <td>NaN</td>\n",
       "      <td>compact</td>\n",
       "      <td>wagon</td>\n",
       "      <td>28</td>\n",
       "      <td>22</td>\n",
       "      <td>586</td>\n",
       "    </tr>\n",
       "    <tr>\n",
       "      <th>10072</th>\n",
       "      <td>pontiac</td>\n",
       "      <td>sunbird</td>\n",
       "      <td>1994</td>\n",
       "      <td>regular_unleaded</td>\n",
       "      <td>110.0</td>\n",
       "      <td>4.0</td>\n",
       "      <td>manual</td>\n",
       "      <td>front_wheel_drive</td>\n",
       "      <td>2.0</td>\n",
       "      <td>NaN</td>\n",
       "      <td>compact</td>\n",
       "      <td>coupe</td>\n",
       "      <td>32</td>\n",
       "      <td>22</td>\n",
       "      <td>210</td>\n",
       "    </tr>\n",
       "    <tr>\n",
       "      <th>6386</th>\n",
       "      <td>nissan</td>\n",
       "      <td>leaf</td>\n",
       "      <td>2014</td>\n",
       "      <td>electric</td>\n",
       "      <td>NaN</td>\n",
       "      <td>0.0</td>\n",
       "      <td>direct_drive</td>\n",
       "      <td>front_wheel_drive</td>\n",
       "      <td>4.0</td>\n",
       "      <td>hatchback</td>\n",
       "      <td>compact</td>\n",
       "      <td>4dr_hatchback</td>\n",
       "      <td>101</td>\n",
       "      <td>126</td>\n",
       "      <td>2009</td>\n",
       "    </tr>\n",
       "    <tr>\n",
       "      <th>7286</th>\n",
       "      <td>lexus</td>\n",
       "      <td>nx_300h</td>\n",
       "      <td>2017</td>\n",
       "      <td>regular_unleaded</td>\n",
       "      <td>194.0</td>\n",
       "      <td>4.0</td>\n",
       "      <td>automatic</td>\n",
       "      <td>all_wheel_drive</td>\n",
       "      <td>4.0</td>\n",
       "      <td>crossover,luxury,hybrid</td>\n",
       "      <td>midsize</td>\n",
       "      <td>4dr_suv</td>\n",
       "      <td>30</td>\n",
       "      <td>33</td>\n",
       "      <td>454</td>\n",
       "    </tr>\n",
       "    <tr>\n",
       "      <th>2085</th>\n",
       "      <td>mercedes-benz</td>\n",
       "      <td>c-class</td>\n",
       "      <td>2017</td>\n",
       "      <td>premium_unleaded_(required)</td>\n",
       "      <td>241.0</td>\n",
       "      <td>4.0</td>\n",
       "      <td>automatic</td>\n",
       "      <td>rear_wheel_drive</td>\n",
       "      <td>4.0</td>\n",
       "      <td>luxury</td>\n",
       "      <td>midsize</td>\n",
       "      <td>sedan</td>\n",
       "      <td>34</td>\n",
       "      <td>24</td>\n",
       "      <td>617</td>\n",
       "    </tr>\n",
       "    <tr>\n",
       "      <th>2728</th>\n",
       "      <td>mercedes-benz</td>\n",
       "      <td>cls-class</td>\n",
       "      <td>2016</td>\n",
       "      <td>premium_unleaded_(required)</td>\n",
       "      <td>329.0</td>\n",
       "      <td>6.0</td>\n",
       "      <td>automatic</td>\n",
       "      <td>all_wheel_drive</td>\n",
       "      <td>4.0</td>\n",
       "      <td>luxury,performance</td>\n",
       "      <td>midsize</td>\n",
       "      <td>sedan</td>\n",
       "      <td>26</td>\n",
       "      <td>19</td>\n",
       "      <td>617</td>\n",
       "    </tr>\n",
       "    <tr>\n",
       "      <th>5883</th>\n",
       "      <td>subaru</td>\n",
       "      <td>impreza</td>\n",
       "      <td>2016</td>\n",
       "      <td>regular_unleaded</td>\n",
       "      <td>148.0</td>\n",
       "      <td>4.0</td>\n",
       "      <td>automatic</td>\n",
       "      <td>all_wheel_drive</td>\n",
       "      <td>4.0</td>\n",
       "      <td>hatchback</td>\n",
       "      <td>compact</td>\n",
       "      <td>4dr_hatchback</td>\n",
       "      <td>37</td>\n",
       "      <td>28</td>\n",
       "      <td>640</td>\n",
       "    </tr>\n",
       "  </tbody>\n",
       "</table>\n",
       "</div>"
      ],
      "text/plain": [
       "                make                  model  year  \\\n",
       "513              bmw  5_series_gran_turismo  2017   \n",
       "5164        infiniti                    g37  2009   \n",
       "10331         toyota                 tercel  1996   \n",
       "7723           mazda               protege5  2002   \n",
       "10072        pontiac                sunbird  1994   \n",
       "6386          nissan                   leaf  2014   \n",
       "7286           lexus                nx_300h  2017   \n",
       "2085   mercedes-benz                c-class  2017   \n",
       "2728   mercedes-benz              cls-class  2016   \n",
       "5883          subaru                impreza  2016   \n",
       "\n",
       "                  engine_fuel_type  engine_hp  engine_cylinders  \\\n",
       "513    premium_unleaded_(required)      300.0               6.0   \n",
       "5164   premium_unleaded_(required)      328.0               6.0   \n",
       "10331             regular_unleaded       93.0               4.0   \n",
       "7723              regular_unleaded      130.0               4.0   \n",
       "10072             regular_unleaded      110.0               4.0   \n",
       "6386                      electric        NaN               0.0   \n",
       "7286              regular_unleaded      194.0               4.0   \n",
       "2085   premium_unleaded_(required)      241.0               4.0   \n",
       "2728   premium_unleaded_(required)      329.0               6.0   \n",
       "5883              regular_unleaded      148.0               4.0   \n",
       "\n",
       "      transmission_type      driven_wheels  number_of_doors  \\\n",
       "513           automatic   rear_wheel_drive              4.0   \n",
       "5164          automatic   rear_wheel_drive              4.0   \n",
       "10331            manual  front_wheel_drive              4.0   \n",
       "7723             manual  front_wheel_drive              4.0   \n",
       "10072            manual  front_wheel_drive              2.0   \n",
       "6386       direct_drive  front_wheel_drive              4.0   \n",
       "7286          automatic    all_wheel_drive              4.0   \n",
       "2085          automatic   rear_wheel_drive              4.0   \n",
       "2728          automatic    all_wheel_drive              4.0   \n",
       "5883          automatic    all_wheel_drive              4.0   \n",
       "\n",
       "                    market_category vehicle_size  vehicle_style  highway_mpg  \\\n",
       "513    hatchback,luxury,performance        large  4dr_hatchback           27   \n",
       "5164                         luxury      midsize          sedan           26   \n",
       "10331                           NaN      compact          sedan           35   \n",
       "7723                            NaN      compact          wagon           28   \n",
       "10072                           NaN      compact          coupe           32   \n",
       "6386                      hatchback      compact  4dr_hatchback          101   \n",
       "7286        crossover,luxury,hybrid      midsize        4dr_suv           30   \n",
       "2085                         luxury      midsize          sedan           34   \n",
       "2728             luxury,performance      midsize          sedan           26   \n",
       "5883                      hatchback      compact  4dr_hatchback           37   \n",
       "\n",
       "       city_mpg  popularity  \n",
       "513          19        3916  \n",
       "5164         18         190  \n",
       "10331        27        2031  \n",
       "7723         22         586  \n",
       "10072        22         210  \n",
       "6386        126        2009  \n",
       "7286         33         454  \n",
       "2085         24         617  \n",
       "2728         19         617  \n",
       "5883         28         640  "
      ]
     },
     "execution_count": 29,
     "metadata": {},
     "output_type": "execute_result"
    }
   ],
   "source": [
    "y_train = np.log1p(df_train.msrp.values)\n",
    "y_val = np.log1p(df_val.msrp.values)\n",
    "y_test = np.log1p(df_test.msrp.values)\n",
    "\n",
    "del df_train[\"msrp\"]\n",
    "del df_val[\"msrp\"]\n",
    "del df_test[\"msrp\"]\n",
    "\n",
    "df_train.head(10)"
   ]
  },
  {
   "cell_type": "code",
   "execution_count": 30,
   "metadata": {},
   "outputs": [
    {
     "data": {
      "text/plain": [
       "array([11.01700487, 10.41184012,  7.60140233,  9.70844543,  7.60140233,\n",
       "       10.37352243, 10.58963529, 10.6376807 , 11.14765656, 10.04741472])"
      ]
     },
     "execution_count": 30,
     "metadata": {},
     "output_type": "execute_result"
    }
   ],
   "source": [
    "y_train[:10]"
   ]
  },
  {
   "cell_type": "markdown",
   "metadata": {},
   "source": [
    "## Regression"
   ]
  },
  {
   "cell_type": "code",
   "execution_count": 31,
   "metadata": {},
   "outputs": [
    {
     "data": {
      "text/plain": [
       "make                        chevrolet\n",
       "model                     s-10_blazer\n",
       "year                             1993\n",
       "engine_fuel_type     regular_unleaded\n",
       "engine_hp                       165.0\n",
       "engine_cylinders                  6.0\n",
       "transmission_type              manual\n",
       "driven_wheels        rear_wheel_drive\n",
       "number_of_doors                   4.0\n",
       "market_category                   NaN\n",
       "vehicle_size                  midsize\n",
       "vehicle_style                 4dr_suv\n",
       "highway_mpg                        22\n",
       "city_mpg                           16\n",
       "popularity                       1385\n",
       "Name: 8722, dtype: object"
      ]
     },
     "execution_count": 31,
     "metadata": {},
     "output_type": "execute_result"
    }
   ],
   "source": [
    "example = df_train.iloc[15]\n",
    "example_label = y_train[15]\n",
    "example"
   ]
  },
  {
   "cell_type": "code",
   "execution_count": 32,
   "metadata": {},
   "outputs": [
    {
     "data": {
      "text/plain": [
       "[np.float64(165.0), np.int64(16), np.int64(1385)]"
      ]
     },
     "execution_count": 32,
     "metadata": {},
     "output_type": "execute_result"
    }
   ],
   "source": [
    "xi = [\n",
    "    example.engine_hp,\n",
    "    example.city_mpg,\n",
    "    example.popularity\n",
    "]\n",
    "\n",
    "xi"
   ]
  },
  {
   "cell_type": "code",
   "execution_count": 33,
   "metadata": {},
   "outputs": [],
   "source": [
    "def g(xi):\n",
    "    n = len(xi)\n",
    "    w0 = 10\n",
    "    w = [0.002 ,0.002, 0.002]\n",
    "\n",
    "    pred = w0\n",
    "    for j in range(n):\n",
    "        pred += xi[j] * w[j]\n",
    "    return pred"
   ]
  },
  {
   "cell_type": "code",
   "execution_count": 34,
   "metadata": {},
   "outputs": [
    {
     "name": "stdout",
     "output_type": "stream",
     "text": [
      "13.132\n",
      "504840.6 2000.0\n"
     ]
    }
   ],
   "source": [
    "y_hat_i = g(xi)\n",
    "\n",
    "print(y_hat_i)\n",
    "print(np.expm1(y_hat_i).round(2), np.expm1(example_label).round(2))\n"
   ]
  },
  {
   "cell_type": "markdown",
   "metadata": {},
   "source": [
    "## Vectorized"
   ]
  },
  {
   "cell_type": "code",
   "execution_count": 35,
   "metadata": {},
   "outputs": [
    {
     "name": "stdout",
     "output_type": "stream",
     "text": [
      "[18.47 11.07 14.3  11.48 10.68]\n",
      "[11.02 10.41  7.6   9.71  7.6 ]\n"
     ]
    }
   ],
   "source": [
    "X = df_train[[\"engine_hp\", \"city_mpg\", \"popularity\"]].values[:5]\n",
    "X = np.hstack([np.ones((X.shape[0], 1)), X])\n",
    "\n",
    "y = y_train[:5]\n",
    "\n",
    "W = np.array([10, 0.002, 0.002, 0.002])\n",
    "\n",
    "y_hat = X.dot(W)\n",
    "print(y_hat.round(2))\n",
    "print(y.round(2))"
   ]
  },
  {
   "cell_type": "markdown",
   "metadata": {},
   "source": [
    "## Normal equation"
   ]
  },
  {
   "cell_type": "code",
   "execution_count": 36,
   "metadata": {},
   "outputs": [
    {
     "name": "stdout",
     "output_type": "stream",
     "text": [
      "[ 1.31588230e+01  4.75076221e-03 -2.39745007e-01  2.70151254e-04]\n",
      "[11.09 10.45  7.68  8.66  8.46]\n",
      "[11.02 10.41  7.6   9.71  7.6 ]\n"
     ]
    }
   ],
   "source": [
    "# XTXw = XTy\n",
    "# IW = XTX-1XTy\n",
    "\n",
    "X = df_train[[\"engine_hp\", \"city_mpg\", \"popularity\"]].values[:5]\n",
    "X = np.hstack([np.ones((X.shape[0], 1)), X])\n",
    "\n",
    "y = y_train[:5]\n",
    "\n",
    "def train_reg(X, y):\n",
    "    XTX = X.T.dot(X)\n",
    "    XTX_inv = np.linalg.inv(XTX)\n",
    "    w = XTX_inv.dot(X.T).dot(y)\n",
    "    return w\n",
    "\n",
    "w = train_reg(X, y)\n",
    "\n",
    "print(w)\n",
    "\n",
    "y_hat = X.dot(w)\n",
    "print(y_hat.round(2))\n",
    "print(y.round(2))"
   ]
  },
  {
   "cell_type": "markdown",
   "metadata": {},
   "source": [
    "## Baseline model"
   ]
  },
  {
   "cell_type": "code",
   "execution_count": 37,
   "metadata": {},
   "outputs": [
    {
     "data": {
      "text/html": [
       "<div>\n",
       "<style scoped>\n",
       "    .dataframe tbody tr th:only-of-type {\n",
       "        vertical-align: middle;\n",
       "    }\n",
       "\n",
       "    .dataframe tbody tr th {\n",
       "        vertical-align: top;\n",
       "    }\n",
       "\n",
       "    .dataframe thead th {\n",
       "        text-align: right;\n",
       "    }\n",
       "</style>\n",
       "<table border=\"1\" class=\"dataframe\">\n",
       "  <thead>\n",
       "    <tr style=\"text-align: right;\">\n",
       "      <th></th>\n",
       "      <th>make</th>\n",
       "      <th>model</th>\n",
       "      <th>year</th>\n",
       "      <th>engine_fuel_type</th>\n",
       "      <th>engine_hp</th>\n",
       "      <th>engine_cylinders</th>\n",
       "      <th>transmission_type</th>\n",
       "      <th>driven_wheels</th>\n",
       "      <th>number_of_doors</th>\n",
       "      <th>market_category</th>\n",
       "      <th>vehicle_size</th>\n",
       "      <th>vehicle_style</th>\n",
       "      <th>highway_mpg</th>\n",
       "      <th>city_mpg</th>\n",
       "      <th>popularity</th>\n",
       "    </tr>\n",
       "  </thead>\n",
       "  <tbody>\n",
       "    <tr>\n",
       "      <th>513</th>\n",
       "      <td>bmw</td>\n",
       "      <td>5_series_gran_turismo</td>\n",
       "      <td>2017</td>\n",
       "      <td>premium_unleaded_(required)</td>\n",
       "      <td>300.0</td>\n",
       "      <td>6.0</td>\n",
       "      <td>automatic</td>\n",
       "      <td>rear_wheel_drive</td>\n",
       "      <td>4.0</td>\n",
       "      <td>hatchback,luxury,performance</td>\n",
       "      <td>large</td>\n",
       "      <td>4dr_hatchback</td>\n",
       "      <td>27</td>\n",
       "      <td>19</td>\n",
       "      <td>3916</td>\n",
       "    </tr>\n",
       "    <tr>\n",
       "      <th>5164</th>\n",
       "      <td>infiniti</td>\n",
       "      <td>g37</td>\n",
       "      <td>2009</td>\n",
       "      <td>premium_unleaded_(required)</td>\n",
       "      <td>328.0</td>\n",
       "      <td>6.0</td>\n",
       "      <td>automatic</td>\n",
       "      <td>rear_wheel_drive</td>\n",
       "      <td>4.0</td>\n",
       "      <td>luxury</td>\n",
       "      <td>midsize</td>\n",
       "      <td>sedan</td>\n",
       "      <td>26</td>\n",
       "      <td>18</td>\n",
       "      <td>190</td>\n",
       "    </tr>\n",
       "  </tbody>\n",
       "</table>\n",
       "</div>"
      ],
      "text/plain": [
       "          make                  model  year             engine_fuel_type  \\\n",
       "513        bmw  5_series_gran_turismo  2017  premium_unleaded_(required)   \n",
       "5164  infiniti                    g37  2009  premium_unleaded_(required)   \n",
       "\n",
       "      engine_hp  engine_cylinders transmission_type     driven_wheels  \\\n",
       "513       300.0               6.0         automatic  rear_wheel_drive   \n",
       "5164      328.0               6.0         automatic  rear_wheel_drive   \n",
       "\n",
       "      number_of_doors               market_category vehicle_size  \\\n",
       "513               4.0  hatchback,luxury,performance        large   \n",
       "5164              4.0                        luxury      midsize   \n",
       "\n",
       "      vehicle_style  highway_mpg  city_mpg  popularity  \n",
       "513   4dr_hatchback           27        19        3916  \n",
       "5164          sedan           26        18         190  "
      ]
     },
     "execution_count": 37,
     "metadata": {},
     "output_type": "execute_result"
    }
   ],
   "source": [
    "df_train.head(2)"
   ]
  },
  {
   "cell_type": "code",
   "execution_count": 38,
   "metadata": {},
   "outputs": [
    {
     "data": {
      "text/plain": [
       "make                  object\n",
       "model                 object\n",
       "year                   int64\n",
       "engine_fuel_type      object\n",
       "engine_hp            float64\n",
       "engine_cylinders     float64\n",
       "transmission_type     object\n",
       "driven_wheels         object\n",
       "number_of_doors      float64\n",
       "market_category       object\n",
       "vehicle_size          object\n",
       "vehicle_style         object\n",
       "highway_mpg            int64\n",
       "city_mpg               int64\n",
       "popularity             int64\n",
       "dtype: object"
      ]
     },
     "execution_count": 38,
     "metadata": {},
     "output_type": "execute_result"
    }
   ],
   "source": [
    "df_train.dtypes # extract numerical columns first"
   ]
  },
  {
   "cell_type": "code",
   "execution_count": 39,
   "metadata": {},
   "outputs": [
    {
     "data": {
      "text/plain": [
       "Index(['make', 'model', 'year', 'engine_fuel_type', 'engine_hp',\n",
       "       'engine_cylinders', 'transmission_type', 'driven_wheels',\n",
       "       'number_of_doors', 'market_category', 'vehicle_size', 'vehicle_style',\n",
       "       'highway_mpg', 'city_mpg', 'popularity'],\n",
       "      dtype='object')"
      ]
     },
     "execution_count": 39,
     "metadata": {},
     "output_type": "execute_result"
    }
   ],
   "source": [
    "df_train.columns"
   ]
  },
  {
   "cell_type": "code",
   "execution_count": 40,
   "metadata": {},
   "outputs": [
    {
     "data": {
      "text/html": [
       "<div>\n",
       "<style scoped>\n",
       "    .dataframe tbody tr th:only-of-type {\n",
       "        vertical-align: middle;\n",
       "    }\n",
       "\n",
       "    .dataframe tbody tr th {\n",
       "        vertical-align: top;\n",
       "    }\n",
       "\n",
       "    .dataframe thead th {\n",
       "        text-align: right;\n",
       "    }\n",
       "</style>\n",
       "<table border=\"1\" class=\"dataframe\">\n",
       "  <thead>\n",
       "    <tr style=\"text-align: right;\">\n",
       "      <th></th>\n",
       "      <th>engine_hp</th>\n",
       "      <th>engine_cylinders</th>\n",
       "      <th>highway_mpg</th>\n",
       "      <th>city_mpg</th>\n",
       "      <th>popularity</th>\n",
       "    </tr>\n",
       "  </thead>\n",
       "  <tbody>\n",
       "    <tr>\n",
       "      <th>513</th>\n",
       "      <td>300.0</td>\n",
       "      <td>6.0</td>\n",
       "      <td>27</td>\n",
       "      <td>19</td>\n",
       "      <td>3916</td>\n",
       "    </tr>\n",
       "    <tr>\n",
       "      <th>5164</th>\n",
       "      <td>328.0</td>\n",
       "      <td>6.0</td>\n",
       "      <td>26</td>\n",
       "      <td>18</td>\n",
       "      <td>190</td>\n",
       "    </tr>\n",
       "  </tbody>\n",
       "</table>\n",
       "</div>"
      ],
      "text/plain": [
       "      engine_hp  engine_cylinders  highway_mpg  city_mpg  popularity\n",
       "513       300.0               6.0           27        19        3916\n",
       "5164      328.0               6.0           26        18         190"
      ]
     },
     "execution_count": 40,
     "metadata": {},
     "output_type": "execute_result"
    }
   ],
   "source": [
    "base_features = [\n",
    "    \"engine_hp\",\n",
    "    \"engine_cylinders\",\n",
    "    \"highway_mpg\",\n",
    "    \"city_mpg\",\n",
    "    \"popularity\"\n",
    "]\n",
    "\n",
    "df_train[base_features].head(2)"
   ]
  },
  {
   "cell_type": "code",
   "execution_count": 41,
   "metadata": {},
   "outputs": [
    {
     "data": {
      "text/plain": [
       "array([[ 300.,    6.,   27.,   19., 3916.],\n",
       "       [ 328.,    6.,   26.,   18.,  190.],\n",
       "       [  93.,    4.,   35.,   27., 2031.],\n",
       "       [ 130.,    4.,   28.,   22.,  586.],\n",
       "       [ 110.,    4.,   32.,   22.,  210.]])"
      ]
     },
     "execution_count": 41,
     "metadata": {},
     "output_type": "execute_result"
    }
   ],
   "source": [
    "X_train = df_train[base_features].values\n",
    "X_train[:5]"
   ]
  },
  {
   "cell_type": "code",
   "execution_count": 42,
   "metadata": {},
   "outputs": [
    {
     "data": {
      "text/plain": [
       "array([nan, nan, nan, nan, nan])"
      ]
     },
     "execution_count": 42,
     "metadata": {},
     "output_type": "execute_result"
    }
   ],
   "source": [
    "w = train_reg(X_train, y_train)\n",
    "w # error - missing values"
   ]
  },
  {
   "cell_type": "code",
   "execution_count": 43,
   "metadata": {},
   "outputs": [
    {
     "data": {
      "text/plain": [
       "make                    0\n",
       "model                   0\n",
       "year                    0\n",
       "engine_fuel_type        2\n",
       "engine_hp              46\n",
       "engine_cylinders       13\n",
       "transmission_type       0\n",
       "driven_wheels           0\n",
       "number_of_doors         2\n",
       "market_category      2254\n",
       "vehicle_size            0\n",
       "vehicle_style           0\n",
       "highway_mpg             0\n",
       "city_mpg                0\n",
       "popularity              0\n",
       "dtype: int64"
      ]
     },
     "execution_count": 43,
     "metadata": {},
     "output_type": "execute_result"
    }
   ],
   "source": [
    "df_train.isnull().sum()"
   ]
  },
  {
   "cell_type": "code",
   "execution_count": 44,
   "metadata": {},
   "outputs": [
    {
     "data": {
      "text/plain": [
       "array([[ 300.,    6.,   27.,   19., 3916.],\n",
       "       [ 328.,    6.,   26.,   18.,  190.],\n",
       "       [  93.,    4.,   35.,   27., 2031.],\n",
       "       [ 130.,    4.,   28.,   22.,  586.],\n",
       "       [ 110.,    4.,   32.,   22.,  210.]])"
      ]
     },
     "execution_count": 44,
     "metadata": {},
     "output_type": "execute_result"
    }
   ],
   "source": [
    "\n",
    "X_train = df_train[base_features].fillna(0, inplace=False).values\n",
    "X_train[:5]"
   ]
  },
  {
   "cell_type": "code",
   "execution_count": 45,
   "metadata": {},
   "outputs": [
    {
     "data": {
      "text/plain": [
       "array([ 6.59257937e-03,  5.66886983e-01,  2.92817475e-01, -1.37409885e-01,\n",
       "        6.43572566e-05])"
      ]
     },
     "execution_count": 45,
     "metadata": {},
     "output_type": "execute_result"
    }
   ],
   "source": [
    "w = train_reg(X_train, y_train)\n",
    "w"
   ]
  },
  {
   "cell_type": "code",
   "execution_count": 46,
   "metadata": {},
   "outputs": [
    {
     "name": "stdout",
     "output_type": "stream",
     "text": [
      "[10.92640276 10.71579225  9.54991216 ... 10.72964082  9.05410738\n",
      "  9.96127122]\n",
      "[11.01700487 10.41184012  7.60140233 ... 10.15214289  7.60140233\n",
      "  9.60784051]\n",
      "7150 7150\n",
      "18.722302213476848 14.349527179656565\n"
     ]
    }
   ],
   "source": [
    "y_hat_train = X_train.dot(w)\n",
    "print(y_hat_train)\n",
    "print(y_train)\n",
    "print(len(y_hat_train), len(y_train))\n",
    "print(y_hat_train.max(), y_train.max())"
   ]
  },
  {
   "cell_type": "code",
   "execution_count": 47,
   "metadata": {},
   "outputs": [
    {
     "data": {
      "text/plain": [
       "<Axes: ylabel='Count'>"
      ]
     },
     "execution_count": 47,
     "metadata": {},
     "output_type": "execute_result"
    },
    {
     "data": {
      "image/png": "[encoded data removed]",
      "text/plain": [
       "<Figure size 640x480 with 1 Axes>"
      ]
     },
     "metadata": {},
     "output_type": "display_data"
    }
   ],
   "source": [
    "sns.histplot(y_train, color='blue', alpha=0.9)\n",
    "sns.histplot(y_hat_train, color='black', alpha=0.3)"
   ]
  },
  {
   "cell_type": "markdown",
   "metadata": {},
   "source": [
    "## RMSE"
   ]
  },
  {
   "cell_type": "code",
   "execution_count": 48,
   "metadata": {},
   "outputs": [],
   "source": [
    "def rmse(y, y_hat):\n",
    "    error = y - y_hat\n",
    "    sq_error = error ** 2\n",
    "    mse = sq_error.mean()\n",
    "    return np.sqrt(mse)"
   ]
  },
  {
   "cell_type": "code",
   "execution_count": 50,
   "metadata": {},
   "outputs": [
    {
     "data": {
      "text/plain": [
       "1.1504216711366009"
      ]
     },
     "execution_count": 50,
     "metadata": {},
     "output_type": "execute_result"
    }
   ],
   "source": [
    "err = rmse(y_train, y_hat_train)\n",
    "err.item()"
   ]
  },
  {
   "cell_type": "markdown",
   "metadata": {},
   "source": [
    "## Validation"
   ]
  },
  {
   "cell_type": "code",
   "execution_count": 56,
   "metadata": {},
   "outputs": [],
   "source": [
    "def prepare_X(df):\n",
    "    df_num = df[base_features]\n",
    "    df_num = df_num.fillna(0)\n",
    "    X = df_num.values\n",
    "    return X"
   ]
  },
  {
   "cell_type": "code",
   "execution_count": 60,
   "metadata": {},
   "outputs": [
    {
     "name": "stdout",
     "output_type": "stream",
     "text": [
      "1.15 1.18\n"
     ]
    }
   ],
   "source": [
    "X_train = prepare_X(df_train)\n",
    "y_train = y_train\n",
    "\n",
    "X_val = prepare_X(df_val)\n",
    "y_val = y_val\n",
    "\n",
    "w = train_reg(X_train, y_train)\n",
    "\n",
    "y_pred_train = X_train.dot(w)\n",
    "y_pred_val = X_val.dot(w)\n",
    "\n",
    "train_err = rmse(y_train, y_pred_train)\n",
    "val_err = rmse(y_val, y_pred_val)\n",
    "\n",
    "print(train_err.round(2), val_err.round(2))"
   ]
  },
  {
   "cell_type": "code",
   "execution_count": null,
   "metadata": {},
   "outputs": [],
   "source": []
  }
 ],
 "metadata": {
  "kernelspec": {
   "display_name": "mlz",
   "language": "python",
   "name": "python3"
  },
  "language_info": {
   "codemirror_mode": {
    "name": "ipython",
    "version": 3
   },
   "file_extension": ".py",
   "mimetype": "text/x-python",
   "name": "python",
   "nbconvert_exporter": "python",
   "pygments_lexer": "ipython3",
   "version": "3.12.6"
  }
 },
 "nbformat": 4,
 "nbformat_minor": 2
}
