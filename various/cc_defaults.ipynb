{
 "cells": [
  {
   "cell_type": "markdown",
   "metadata": {},
   "source": [
    "# Credit card default prediction\n",
    "\n",
    "Dataset src: <https://www.kaggle.com/datasets/pratjain/credit-card-default>"
   ]
  },
  {
   "cell_type": "code",
   "execution_count": 34,
   "metadata": {},
   "outputs": [],
   "source": [
    "import pandas as pd\n",
    "import pprint\n",
    "import matplotlib.pyplot as plt\n",
    "import seaborn as sns"
   ]
  },
  {
   "cell_type": "code",
   "execution_count": 7,
   "metadata": {},
   "outputs": [],
   "source": [
    "df = pd.read_csv(\"credit_card_default_TRAIN.csv\", skiprows=1)"
   ]
  },
  {
   "cell_type": "markdown",
   "metadata": {},
   "source": [
    "## Data preparation"
   ]
  },
  {
   "cell_type": "code",
   "execution_count": 8,
   "metadata": {},
   "outputs": [
    {
     "name": "stdout",
     "output_type": "stream",
     "text": [
      "# of samples: 22500\n",
      "# of features: 25\n"
     ]
    }
   ],
   "source": [
    "# data size overview\n",
    "\n",
    "print(f\"# of samples: {len(df)}\")\n",
    "print(f\"# of features: {len(df.columns)}\")"
   ]
  },
  {
   "cell_type": "code",
   "execution_count": 11,
   "metadata": {},
   "outputs": [
    {
     "data": {
      "text/html": [
       "<div>\n",
       "<style scoped>\n",
       "    .dataframe tbody tr th:only-of-type {\n",
       "        vertical-align: middle;\n",
       "    }\n",
       "\n",
       "    .dataframe tbody tr th {\n",
       "        vertical-align: top;\n",
       "    }\n",
       "\n",
       "    .dataframe thead th {\n",
       "        text-align: right;\n",
       "    }\n",
       "</style>\n",
       "<table border=\"1\" class=\"dataframe\">\n",
       "  <thead>\n",
       "    <tr style=\"text-align: right;\">\n",
       "      <th></th>\n",
       "      <th>id</th>\n",
       "      <th>limit_bal</th>\n",
       "      <th>sex</th>\n",
       "      <th>education</th>\n",
       "      <th>marriage</th>\n",
       "      <th>age</th>\n",
       "      <th>pay_0</th>\n",
       "      <th>pay_2</th>\n",
       "      <th>pay_3</th>\n",
       "      <th>pay_4</th>\n",
       "      <th>...</th>\n",
       "      <th>bill_amt4</th>\n",
       "      <th>bill_amt5</th>\n",
       "      <th>bill_amt6</th>\n",
       "      <th>pay_amt1</th>\n",
       "      <th>pay_amt2</th>\n",
       "      <th>pay_amt3</th>\n",
       "      <th>pay_amt4</th>\n",
       "      <th>pay_amt5</th>\n",
       "      <th>pay_amt6</th>\n",
       "      <th>default_payment_next_month</th>\n",
       "    </tr>\n",
       "  </thead>\n",
       "  <tbody>\n",
       "    <tr>\n",
       "      <th>0</th>\n",
       "      <td>1</td>\n",
       "      <td>20000</td>\n",
       "      <td>2</td>\n",
       "      <td>2</td>\n",
       "      <td>1</td>\n",
       "      <td>24</td>\n",
       "      <td>2</td>\n",
       "      <td>2</td>\n",
       "      <td>-1</td>\n",
       "      <td>-1</td>\n",
       "      <td>...</td>\n",
       "      <td>0</td>\n",
       "      <td>0</td>\n",
       "      <td>0</td>\n",
       "      <td>0</td>\n",
       "      <td>689</td>\n",
       "      <td>0</td>\n",
       "      <td>0</td>\n",
       "      <td>0</td>\n",
       "      <td>0</td>\n",
       "      <td>1</td>\n",
       "    </tr>\n",
       "    <tr>\n",
       "      <th>1</th>\n",
       "      <td>2</td>\n",
       "      <td>120000</td>\n",
       "      <td>2</td>\n",
       "      <td>2</td>\n",
       "      <td>2</td>\n",
       "      <td>26</td>\n",
       "      <td>-1</td>\n",
       "      <td>2</td>\n",
       "      <td>0</td>\n",
       "      <td>0</td>\n",
       "      <td>...</td>\n",
       "      <td>3272</td>\n",
       "      <td>3455</td>\n",
       "      <td>3261</td>\n",
       "      <td>0</td>\n",
       "      <td>1000</td>\n",
       "      <td>1000</td>\n",
       "      <td>1000</td>\n",
       "      <td>0</td>\n",
       "      <td>2000</td>\n",
       "      <td>1</td>\n",
       "    </tr>\n",
       "  </tbody>\n",
       "</table>\n",
       "<p>2 rows × 25 columns</p>\n",
       "</div>"
      ],
      "text/plain": [
       "   id  limit_bal  sex  education  marriage  age  pay_0  pay_2  pay_3  pay_4  \\\n",
       "0   1      20000    2          2         1   24      2      2     -1     -1   \n",
       "1   2     120000    2          2         2   26     -1      2      0      0   \n",
       "\n",
       "   ...  bill_amt4  bill_amt5  bill_amt6  pay_amt1  pay_amt2  pay_amt3  \\\n",
       "0  ...          0          0          0         0       689         0   \n",
       "1  ...       3272       3455       3261         0      1000      1000   \n",
       "\n",
       "   pay_amt4  pay_amt5  pay_amt6  default_payment_next_month  \n",
       "0         0         0         0                           1  \n",
       "1      1000         0      2000                           1  \n",
       "\n",
       "[2 rows x 25 columns]"
      ]
     },
     "execution_count": 11,
     "metadata": {},
     "output_type": "execute_result"
    }
   ],
   "source": [
    "# clean up feature names\n",
    "\n",
    "df.columns = df.columns.str.lower().str.replace(\" \", \"_\")\n",
    "df.head(2)"
   ]
  },
  {
   "cell_type": "code",
   "execution_count": 13,
   "metadata": {},
   "outputs": [
    {
     "data": {
      "text/plain": [
       "id                            int64\n",
       "limit_bal                     int64\n",
       "sex                           int64\n",
       "education                     int64\n",
       "marriage                      int64\n",
       "age                           int64\n",
       "pay_0                         int64\n",
       "pay_2                         int64\n",
       "pay_3                         int64\n",
       "pay_4                         int64\n",
       "pay_5                         int64\n",
       "pay_6                         int64\n",
       "bill_amt1                     int64\n",
       "bill_amt2                     int64\n",
       "bill_amt3                     int64\n",
       "bill_amt4                     int64\n",
       "bill_amt5                     int64\n",
       "bill_amt6                     int64\n",
       "pay_amt1                      int64\n",
       "pay_amt2                      int64\n",
       "pay_amt3                      int64\n",
       "pay_amt4                      int64\n",
       "pay_amt5                      int64\n",
       "pay_amt6                      int64\n",
       "default_payment_next_month    int64\n",
       "dtype: object"
      ]
     },
     "execution_count": 13,
     "metadata": {},
     "output_type": "execute_result"
    }
   ],
   "source": [
    "# inspect data types\n",
    "# categorical features are encoded as numerics\n",
    "# need to extract them manually\n",
    "\n",
    "df.dtypes"
   ]
  },
  {
   "cell_type": "code",
   "execution_count": 18,
   "metadata": {},
   "outputs": [
    {
     "name": "stdout",
     "output_type": "stream",
     "text": [
      "{'age': 55,\n",
      " 'bill_amt1': 17712,\n",
      " 'bill_amt2': 17398,\n",
      " 'bill_amt3': 17152,\n",
      " 'bill_amt4': 16769,\n",
      " 'bill_amt5': 16359,\n",
      " 'bill_amt6': 15972,\n",
      " 'default_payment_next_month': 2,\n",
      " 'education': 7,\n",
      " 'id': 22500,\n",
      " 'limit_bal': 77,\n",
      " 'marriage': 4,\n",
      " 'pay_0': 11,\n",
      " 'pay_2': 11,\n",
      " 'pay_3': 11,\n",
      " 'pay_4': 11,\n",
      " 'pay_5': 10,\n",
      " 'pay_6': 10,\n",
      " 'pay_amt1': 6592,\n",
      " 'pay_amt2': 6476,\n",
      " 'pay_amt3': 6050,\n",
      " 'pay_amt4': 5732,\n",
      " 'pay_amt5': 5674,\n",
      " 'pay_amt6': 5684,\n",
      " 'sex': 2}\n"
     ]
    }
   ],
   "source": [
    "# extract categorical features\n",
    "# need to drill down into pay_i categories\n",
    "\n",
    "feature_map = {col: df[col].nunique() for col in list(df.columns)}\n",
    "pprint.pprint(feature_map)"
   ]
  },
  {
   "cell_type": "code",
   "execution_count": 19,
   "metadata": {},
   "outputs": [
    {
     "data": {
      "text/plain": [
       "pay_0\n",
       " 0    11069\n",
       "-1     4322\n",
       " 1     2830\n",
       " 2     2093\n",
       "-2     1830\n",
       " 3      243\n",
       " 4       63\n",
       " 8       17\n",
       " 5       17\n",
       " 6        9\n",
       " 7        7\n",
       "Name: count, dtype: int64"
      ]
     },
     "execution_count": 19,
     "metadata": {},
     "output_type": "execute_result"
    }
   ],
   "source": [
    "# pay_i denotes payment status for month i (i=0,2,3,...,6) where i=0 is 09/2005 and i=6 is 04/2005\n",
    "# pay_i = -1 means pay duly\n",
    "# pay_i = 0 means revolving credit\n",
    "# pay_i = 1 means payment delay for two months\n",
    "# pay_i = 2 means payment delay for three months\n",
    "# pay_i = -2 means no consumption for the month\n",
    "# and so on\n",
    "\n",
    "df[\"pay_0\"].value_counts()"
   ]
  },
  {
   "cell_type": "code",
   "execution_count": 21,
   "metadata": {},
   "outputs": [],
   "source": [
    "# set cols for reuse\n",
    "\n",
    "categorical_features = [\n",
    "    \"education\", \"marriage\", \"pay_0\", \"pay_2\", \"pay_3\", \"pay_4\", \"pay_5\", \"pay_6\", \"sex\"\n",
    "]\n",
    "\n",
    "numerical_features = [\n",
    "    col for col in df.columns if col not in categorical_features and col != \"id\" and col != \"default_payment_next_month\"\n",
    "]"
   ]
  },
  {
   "cell_type": "code",
   "execution_count": 23,
   "metadata": {},
   "outputs": [],
   "source": [
    "# drop id column\n",
    "\n",
    "df.drop(\"id\", axis=1, inplace=True)"
   ]
  },
  {
   "cell_type": "code",
   "execution_count": 24,
   "metadata": {},
   "outputs": [
    {
     "data": {
      "text/plain": [
       "limit_bal                     0\n",
       "sex                           0\n",
       "education                     0\n",
       "marriage                      0\n",
       "age                           0\n",
       "pay_0                         0\n",
       "pay_2                         0\n",
       "pay_3                         0\n",
       "pay_4                         0\n",
       "pay_5                         0\n",
       "pay_6                         0\n",
       "bill_amt1                     0\n",
       "bill_amt2                     0\n",
       "bill_amt3                     0\n",
       "bill_amt4                     0\n",
       "bill_amt5                     0\n",
       "bill_amt6                     0\n",
       "pay_amt1                      0\n",
       "pay_amt2                      0\n",
       "pay_amt3                      0\n",
       "pay_amt4                      0\n",
       "pay_amt5                      0\n",
       "pay_amt6                      0\n",
       "default_payment_next_month    0\n",
       "dtype: int64"
      ]
     },
     "execution_count": 24,
     "metadata": {},
     "output_type": "execute_result"
    }
   ],
   "source": [
    "# inspect nans\n",
    "\n",
    "df.isnull().sum() # nothing to do here fortunately"
   ]
  },
  {
   "cell_type": "code",
   "execution_count": 25,
   "metadata": {},
   "outputs": [
    {
     "data": {
      "text/plain": [
       "default_payment_next_month\n",
       "0    0.773867\n",
       "1    0.226133\n",
       "Name: proportion, dtype: float64"
      ]
     },
     "execution_count": 25,
     "metadata": {},
     "output_type": "execute_result"
    }
   ],
   "source": [
    "# the target variable is imbalanced\n",
    "# consider other methods - ensemble, boosting, forests, bagging, etc.\n",
    "\n",
    "# some recommendations:\n",
    "# https://medium.com/@mmalinda/testing-recommendations-for-binary-classification-with-an-imbalanced-target-variable-ff8b120ea8c9\n",
    "\n",
    "df[\"default_payment_next_month\"].value_counts(normalize=True)"
   ]
  },
  {
   "cell_type": "markdown",
   "metadata": {},
   "source": [
    "## Validation framework"
   ]
  },
  {
   "cell_type": "code",
   "execution_count": 27,
   "metadata": {},
   "outputs": [],
   "source": [
    "from sklearn.model_selection import train_test_split"
   ]
  },
  {
   "cell_type": "code",
   "execution_count": 30,
   "metadata": {},
   "outputs": [],
   "source": [
    "df_full_train, df_test = train_test_split(df, test_size=0.2, random_state=1)\n",
    "df_train, df_val = train_test_split(df_full_train, test_size=0.25, random_state=1)\n",
    "df_train = df_train.reset_index(drop=True)\n",
    "df_val = df_val.reset_index(drop=True)\n",
    "df_test = df_test.reset_index(drop=True)"
   ]
  },
  {
   "cell_type": "code",
   "execution_count": 29,
   "metadata": {},
   "outputs": [
    {
     "name": "stdout",
     "output_type": "stream",
     "text": [
      "13500 4500 4500\n"
     ]
    }
   ],
   "source": [
    "print(len(df_train), len(df_val), len(df_test))"
   ]
  },
  {
   "cell_type": "code",
   "execution_count": 31,
   "metadata": {},
   "outputs": [],
   "source": [
    "y_train = df_train[\"default_payment_next_month\"].values\n",
    "y_val = df_val[\"default_payment_next_month\"].values\n",
    "y_test = df_test[\"default_payment_next_month\"].values\n",
    "\n",
    "del df_train[\"default_payment_next_month\"]\n",
    "del df_val[\"default_payment_next_month\"]\n",
    "del df_test[\"default_payment_next_month\"]"
   ]
  },
  {
   "cell_type": "markdown",
   "metadata": {},
   "source": [
    "## EDA"
   ]
  },
  {
   "cell_type": "code",
   "execution_count": 32,
   "metadata": {},
   "outputs": [],
   "source": [
    "eda = df_full_train.copy()"
   ]
  },
  {
   "cell_type": "code",
   "execution_count": 33,
   "metadata": {},
   "outputs": [
    {
     "data": {
      "text/html": [
       "<div>\n",
       "<style scoped>\n",
       "    .dataframe tbody tr th:only-of-type {\n",
       "        vertical-align: middle;\n",
       "    }\n",
       "\n",
       "    .dataframe tbody tr th {\n",
       "        vertical-align: top;\n",
       "    }\n",
       "\n",
       "    .dataframe thead th {\n",
       "        text-align: right;\n",
       "    }\n",
       "</style>\n",
       "<table border=\"1\" class=\"dataframe\">\n",
       "  <thead>\n",
       "    <tr style=\"text-align: right;\">\n",
       "      <th></th>\n",
       "      <th>limit_bal</th>\n",
       "      <th>sex</th>\n",
       "      <th>education</th>\n",
       "      <th>marriage</th>\n",
       "      <th>age</th>\n",
       "      <th>pay_0</th>\n",
       "      <th>pay_2</th>\n",
       "      <th>pay_3</th>\n",
       "      <th>pay_4</th>\n",
       "      <th>pay_5</th>\n",
       "      <th>...</th>\n",
       "      <th>bill_amt4</th>\n",
       "      <th>bill_amt5</th>\n",
       "      <th>bill_amt6</th>\n",
       "      <th>pay_amt1</th>\n",
       "      <th>pay_amt2</th>\n",
       "      <th>pay_amt3</th>\n",
       "      <th>pay_amt4</th>\n",
       "      <th>pay_amt5</th>\n",
       "      <th>pay_amt6</th>\n",
       "      <th>default_payment_next_month</th>\n",
       "    </tr>\n",
       "  </thead>\n",
       "  <tbody>\n",
       "    <tr>\n",
       "      <th>8586</th>\n",
       "      <td>170000</td>\n",
       "      <td>2</td>\n",
       "      <td>1</td>\n",
       "      <td>1</td>\n",
       "      <td>63</td>\n",
       "      <td>0</td>\n",
       "      <td>0</td>\n",
       "      <td>0</td>\n",
       "      <td>0</td>\n",
       "      <td>0</td>\n",
       "      <td>...</td>\n",
       "      <td>59560</td>\n",
       "      <td>61442</td>\n",
       "      <td>63422</td>\n",
       "      <td>3000</td>\n",
       "      <td>2500</td>\n",
       "      <td>2500</td>\n",
       "      <td>3000</td>\n",
       "      <td>3000</td>\n",
       "      <td>2651</td>\n",
       "      <td>0</td>\n",
       "    </tr>\n",
       "  </tbody>\n",
       "</table>\n",
       "<p>1 rows × 24 columns</p>\n",
       "</div>"
      ],
      "text/plain": [
       "      limit_bal  sex  education  marriage  age  pay_0  pay_2  pay_3  pay_4  \\\n",
       "8586     170000    2          1         1   63      0      0      0      0   \n",
       "\n",
       "      pay_5  ...  bill_amt4  bill_amt5  bill_amt6  pay_amt1  pay_amt2  \\\n",
       "8586      0  ...      59560      61442      63422      3000      2500   \n",
       "\n",
       "      pay_amt3  pay_amt4  pay_amt5  pay_amt6  default_payment_next_month  \n",
       "8586      2500      3000      3000      2651                           0  \n",
       "\n",
       "[1 rows x 24 columns]"
      ]
     },
     "execution_count": 33,
     "metadata": {},
     "output_type": "execute_result"
    }
   ],
   "source": [
    "eda.head(1)"
   ]
  },
  {
   "cell_type": "code",
   "execution_count": 37,
   "metadata": {},
   "outputs": [
    {
     "data": {
      "text/plain": [
       "sex\n",
       "2    0.6075\n",
       "1    0.3925\n",
       "Name: proportion, dtype: float64"
      ]
     },
     "execution_count": 37,
     "metadata": {},
     "output_type": "execute_result"
    }
   ],
   "source": [
    "eda.sex.value_counts(normalize=True)"
   ]
  },
  {
   "cell_type": "code",
   "execution_count": 41,
   "metadata": {},
   "outputs": [
    {
     "data": {
      "text/plain": [
       "sex\n",
       "1    0.245435\n",
       "2    0.210608\n",
       "Name: default_payment_next_month, dtype: float64"
      ]
     },
     "execution_count": 41,
     "metadata": {},
     "output_type": "execute_result"
    }
   ],
   "source": [
    "# sex is not very predictive\n",
    "\n",
    "eda.groupby([\"sex\"]).default_payment_next_month.mean()"
   ]
  },
  {
   "cell_type": "code",
   "execution_count": 43,
   "metadata": {},
   "outputs": [
    {
     "data": {
      "text/plain": [
       "education\n",
       "2    0.473500\n",
       "1    0.353833\n",
       "3    0.159556\n",
       "5    0.008056\n",
       "4    0.003167\n",
       "6    0.001389\n",
       "0    0.000500\n",
       "Name: proportion, dtype: float64"
      ]
     },
     "execution_count": 43,
     "metadata": {},
     "output_type": "execute_result"
    }
   ],
   "source": [
    "eda.education.value_counts(normalize=True)"
   ]
  },
  {
   "cell_type": "code",
   "execution_count": 44,
   "metadata": {},
   "outputs": [
    {
     "data": {
      "text/plain": [
       "education\n",
       "0    0.000000\n",
       "1    0.192966\n",
       "2    0.240174\n",
       "3    0.259053\n",
       "4    0.052632\n",
       "5    0.075862\n",
       "6    0.120000\n",
       "Name: default_payment_next_month, dtype: float64"
      ]
     },
     "execution_count": 44,
     "metadata": {},
     "output_type": "execute_result"
    }
   ],
   "source": [
    "# has some predictive value\n",
    "\n",
    "eda.groupby([\"education\"]).default_payment_next_month.mean()"
   ]
  },
  {
   "cell_type": "code",
   "execution_count": 46,
   "metadata": {},
   "outputs": [
    {
     "data": {
      "text/plain": [
       "pay_0        0.076982\n",
       "pay_2        0.049405\n",
       "pay_3        0.037636\n",
       "pay_4        0.032250\n",
       "pay_5        0.031638\n",
       "pay_6        0.026163\n",
       "education    0.003083\n",
       "marriage     0.000913\n",
       "sex          0.000825\n",
       "dtype: float64"
      ]
     },
     "execution_count": 46,
     "metadata": {},
     "output_type": "execute_result"
    }
   ],
   "source": [
    "# use synthetic approach and calculate mutual information / entropy for each categorical feature\n",
    "\n",
    "from sklearn.metrics import mutual_info_score\n",
    "\n",
    "def calculate_mi(series):\n",
    "    return mutual_info_score(series, df_full_train.default_payment_next_month)\n",
    "\n",
    "mi = eda[categorical_features].apply(calculate_mi)\n",
    "mi = mi.sort_values(ascending=False)\n",
    "\n",
    "mi"
   ]
  },
  {
   "cell_type": "code",
   "execution_count": 47,
   "metadata": {},
   "outputs": [
    {
     "data": {
      "text/plain": [
       "limit_bal    0.144338\n",
       "pay_amt1     0.074535\n",
       "pay_amt2     0.056004\n",
       "pay_amt4     0.054297\n",
       "pay_amt6     0.054103\n",
       "pay_amt3     0.054061\n",
       "pay_amt5     0.048757\n",
       "bill_amt1    0.024862\n",
       "age          0.018236\n",
       "bill_amt2    0.017842\n",
       "bill_amt3    0.016042\n",
       "bill_amt4    0.007900\n",
       "bill_amt5    0.003639\n",
       "bill_amt6    0.000925\n",
       "dtype: float64"
      ]
     },
     "execution_count": 47,
     "metadata": {},
     "output_type": "execute_result"
    }
   ],
   "source": [
    "# calculate correlation for numerical features\n",
    "\n",
    "eda[numerical_features].corrwith(eda.default_payment_next_month).abs().sort_values(ascending=False)"
   ]
  },
  {
   "cell_type": "code",
   "execution_count": null,
   "metadata": {},
   "outputs": [],
   "source": []
  }
 ],
 "metadata": {
  "kernelspec": {
   "display_name": "torch",
   "language": "python",
   "name": "python3"
  },
  "language_info": {
   "codemirror_mode": {
    "name": "ipython",
    "version": 3
   },
   "file_extension": ".py",
   "mimetype": "text/x-python",
   "name": "python",
   "nbconvert_exporter": "python",
   "pygments_lexer": "ipython3",
   "version": "3.12.2"
  }
 },
 "nbformat": 4,
 "nbformat_minor": 2
}
