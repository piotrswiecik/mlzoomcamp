{
 "cells": [
  {
   "cell_type": "code",
   "execution_count": 6,
   "metadata": {},
   "outputs": [],
   "source": [
    "import urllib.request\n",
    "import pickle\n",
    "\n",
    "from sklearn.linear_model import LogisticRegression\n",
    "from sklearn.feature_extraction import DictVectorizer"
   ]
  },
  {
   "cell_type": "code",
   "execution_count": 13,
   "metadata": {},
   "outputs": [],
   "source": [
    "PREFIX=\"https://raw.githubusercontent.com/DataTalksClub/machine-learning-zoomcamp/master/cohorts/2024/05-deployment/homework\"\n",
    "\n",
    "vectorizer_url = f\"{PREFIX}/dv.bin\"\n",
    "model_url = f\"{PREFIX}/model1.bin\"\n",
    "\n",
    "urllib.request.urlretrieve(vectorizer_url, \"dv.bin\")\n",
    "urllib.request.urlretrieve(model_url, \"model1.bin\")\n",
    "\n",
    "from pathlib import Path\n",
    "\n",
    "assert Path(\"dv.bin\").exists()\n",
    "assert Path(\"model1.bin\").exists()\n",
    "\n",
    "with open(\"dv.bin\", \"rb\") as f_in:\n",
    "    dv = pickle.load(f_in)\n",
    "\n",
    "with open(\"model1.bin\", \"rb\") as f_in:\n",
    "    model = pickle.load(f_in)\n",
    "\n",
    "assert isinstance(dv, DictVectorizer)\n",
    "assert isinstance(model, LogisticRegression)"
   ]
  },
  {
   "cell_type": "code",
   "execution_count": 16,
   "metadata": {},
   "outputs": [
    {
     "name": "stdout",
     "output_type": "stream",
     "text": [
      "y_pred: 0.7591\n"
     ]
    }
   ],
   "source": [
    "sample = {\"job\": \"management\", \"duration\": 400, \"poutcome\": \"success\"}\n",
    "\n",
    "X = dv.transform([sample])\n",
    "y_pred = model.predict_proba(X)[0, 1]\n",
    "\n",
    "print(f\"y_pred: {y_pred:.4f}\")"
   ]
  }
 ],
 "metadata": {
  "kernelspec": {
   "display_name": "mlz",
   "language": "python",
   "name": "python3"
  },
  "language_info": {
   "codemirror_mode": {
    "name": "ipython",
    "version": 3
   },
   "file_extension": ".py",
   "mimetype": "text/x-python",
   "name": "python",
   "nbconvert_exporter": "python",
   "pygments_lexer": "ipython3",
   "version": "3.12.2"
  }
 },
 "nbformat": 4,
 "nbformat_minor": 2
}
