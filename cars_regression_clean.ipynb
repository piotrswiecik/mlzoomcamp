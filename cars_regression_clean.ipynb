{
 "cells": [
  {
   "cell_type": "code",
   "execution_count": 1,
   "metadata": {},
   "outputs": [],
   "source": [
    "import pandas as pd\n",
    "import numpy as np\n",
    "import urllib.request\n",
    "import os\n",
    "import matplotlib.pyplot as plt\n",
    "import seaborn as sns\n",
    "\n",
    "%matplotlib inline"
   ]
  },
  {
   "cell_type": "code",
   "execution_count": 2,
   "metadata": {},
   "outputs": [],
   "source": [
    "data_url = \"https://raw.githubusercontent.com/alexeygrigorev/mlbookcamp-code/master/chapter-02-car-price/data.csv\"\n",
    "\n",
    "filename = \"cars_data.csv\"\n",
    "\n",
    "if not os.path.exists(filename):\n",
    "    urllib.request.urlretrieve(data_url, filename)\n",
    "\n",
    "df = pd.read_csv(filename)"
   ]
  },
  {
   "cell_type": "code",
   "execution_count": 3,
   "metadata": {},
   "outputs": [],
   "source": [
    "def df_clean(df):\n",
    "    df.columns = df.columns.str.lower().str.replace(\" \", \"_\")\n",
    "    \n",
    "    string_columns = df.dtypes[df.dtypes == \"object\"].index\n",
    "\n",
    "    for col in string_columns:\n",
    "        df[col] = df[col].str.lower().str.replace(\" \", \"_\")\n",
    "\n",
    "    return df"
   ]
  },
  {
   "cell_type": "code",
   "execution_count": 5,
   "metadata": {},
   "outputs": [],
   "source": [
    "np.random.seed(2)\n",
    "\n",
    "m = len(df)\n",
    "\n",
    "m_val = int(0.2 * m)\n",
    "m_test = int(0.2 * m)\n",
    "m_train = m - m_val - m_test\n",
    "\n",
    "idx = np.arange(m)\n",
    "np.random.shuffle(idx)\n",
    "\n",
    "df_cleaned = df_clean(df)\n",
    "df_shuffled = df_cleaned.iloc[idx]\n",
    "\n",
    "df_train = df_shuffled.iloc[:m_train].copy()\n",
    "df_val = df_shuffled.iloc[m_train:m_train+m_val].copy()\n",
    "df_test = df_shuffled.iloc[m_train+m_val:].copy()\n",
    "\n",
    "y_train_orig = df_train.msrp.values\n",
    "y_val_orig = df_val.msrp.values\n",
    "y_test_orig = df_test.msrp.values\n",
    "\n",
    "y_train = np.log1p(df_train.msrp.values)\n",
    "y_val = np.log1p(df_val.msrp.values)\n",
    "y_test = np.log1p(df_test.msrp.values)\n",
    "\n",
    "del df_train[\"msrp\"]\n",
    "del df_val[\"msrp\"]\n",
    "del df_test[\"msrp\"]"
   ]
  },
  {
   "cell_type": "code",
   "execution_count": 33,
   "metadata": {},
   "outputs": [],
   "source": [
    "def train_lin_reg(X, y):\n",
    "    ones = np.ones(X.shape[0])\n",
    "    X = np.column_stack([ones, X])\n",
    "\n",
    "    XTX = X.T.dot(X)\n",
    "    XTX_inv = np.linalg.inv(XTX)\n",
    "    w = XTX_inv.dot(X.T).dot(y)\n",
    "    \n",
    "    return w[0], w[1:] # bias, weights"
   ]
  },
  {
   "cell_type": "code",
   "execution_count": 7,
   "metadata": {},
   "outputs": [],
   "source": [
    "BASE_FEATURES = [\"engine_hp\", \"engine_cylinders\", \"highway_mpg\", \"city_mpg\", \"popularity\"]"
   ]
  },
  {
   "cell_type": "code",
   "execution_count": 34,
   "metadata": {},
   "outputs": [],
   "source": [
    "def prepare_X(df) -> np.ndarray:\n",
    "    df_num = df[BASE_FEATURES]\n",
    "    df_num = df_num.fillna(0)\n",
    "    X = df_num.values\n",
    "    return X"
   ]
  },
  {
   "cell_type": "code",
   "execution_count": 35,
   "metadata": {},
   "outputs": [],
   "source": [
    "model_a = dict()"
   ]
  },
  {
   "cell_type": "code",
   "execution_count": 36,
   "metadata": {},
   "outputs": [],
   "source": [
    "X_train = prepare_X(df_train)\n",
    "w_0, w = train_lin_reg(X_train, y_train)\n",
    "\n",
    "y_hat = w_0 + X_train.dot(w)\n",
    "\n",
    "model_a[\"bias\"] = w_0\n",
    "model_a[\"weights\"] = w\n",
    "model_a[\"predictions\"] = y_hat\n",
    "model_a[\"features\"] = BASE_FEATURES"
   ]
  },
  {
   "cell_type": "code",
   "execution_count": 14,
   "metadata": {},
   "outputs": [
    {
     "data": {
      "text/plain": [
       "Text(0, 0.5, 'Frequency')"
      ]
     },
     "execution_count": 14,
     "metadata": {},
     "output_type": "execute_result"
    },
    {
     "data": {
      "image/png": "[encoded data removed]",
      "text/plain": [
       "<Figure size 600x400 with 1 Axes>"
      ]
     },
     "metadata": {},
     "output_type": "display_data"
    }
   ],
   "source": [
    "plt.figure(figsize=(6, 4))\n",
    "\n",
    "sns.histplot(y_train, color=\"blue\", alpha=0.5, bins=50)\n",
    "sns.histplot(y_hat, color=\"red\", alpha=0.5, bins=50)\n",
    "\n",
    "plt.legend([\"Actual\", \"Predicted\"])\n",
    "plt.xlabel(\"Log(Price + 1)\")\n",
    "plt.ylabel(\"Frequency\")"
   ]
  },
  {
   "cell_type": "code",
   "execution_count": 22,
   "metadata": {},
   "outputs": [],
   "source": [
    "def rmse(y, y_pred):\n",
    "    error = y - y_pred\n",
    "    mse = (error ** 2).mean()\n",
    "    return np.sqrt(mse)"
   ]
  },
  {
   "cell_type": "code",
   "execution_count": 37,
   "metadata": {},
   "outputs": [
    {
     "data": {
      "text/plain": [
       "np.float64(0.7554)"
      ]
     },
     "execution_count": 37,
     "metadata": {},
     "output_type": "execute_result"
    }
   ],
   "source": [
    "model_a[\"rmse\"] = rmse(y_train, y_hat)\n",
    "model_a[\"rmse\"].round(4)"
   ]
  },
  {
   "cell_type": "code",
   "execution_count": 38,
   "metadata": {},
   "outputs": [
    {
     "data": {
      "text/plain": [
       "np.float64(0.7617)"
      ]
     },
     "execution_count": 38,
     "metadata": {},
     "output_type": "execute_result"
    }
   ],
   "source": [
    "X_val = prepare_X(df_val)\n",
    "y_hat = w_0 + X_val.dot(w)\n",
    "\n",
    "model_a[\"val_predictions\"] = y_hat\n",
    "model_a[\"val_rmse\"] = rmse(y_val, y_hat)\n",
    "model_a[\"val_rmse\"].round(4)"
   ]
  },
  {
   "cell_type": "code",
   "execution_count": 30,
   "metadata": {},
   "outputs": [],
   "source": [
    "def prepare_X_b(df) -> np.ndarray:\n",
    "    df = df.copy()\n",
    "    features = BASE_FEATURES.copy()\n",
    "\n",
    "    df[\"age\"] = 2017 - df.year\n",
    "    features.append(\"age\")\n",
    "\n",
    "    df_num = df[features]\n",
    "    df_num = df_num.fillna(0)\n",
    "    X = df_num.values\n",
    "    return X"
   ]
  },
  {
   "cell_type": "code",
   "execution_count": 39,
   "metadata": {},
   "outputs": [
    {
     "name": "stdout",
     "output_type": "stream",
     "text": [
      "Model A RMSE:  0.7554\n",
      "Model B RMSE:  0.5175\n",
      "Model A Validation RMSE:  0.7617\n",
      "Model B Validation RMSE:  0.5172\n"
     ]
    }
   ],
   "source": [
    "model_b = dict()\n",
    "\n",
    "X_train = prepare_X_b(df_train)\n",
    "w_0, w = train_lin_reg(X_train, y_train)\n",
    "\n",
    "y_hat = w_0 + X_train.dot(w)\n",
    "\n",
    "model_b[\"bias\"] = w_0\n",
    "model_b[\"weights\"] = w\n",
    "model_b[\"predictions\"] = y_hat\n",
    "model_b[\"features\"] = BASE_FEATURES + [\"age\"]\n",
    "model_b[\"rmse\"] = rmse(y_train, y_hat)\n",
    "\n",
    "X_val = prepare_X_b(df_val)\n",
    "y_hat = w_0 + X_val.dot(w)\n",
    "\n",
    "model_b[\"val_predictions\"] = y_hat\n",
    "model_b[\"val_rmse\"] = rmse(y_val, y_hat)\n",
    "\n",
    "print(\"Model A RMSE: \", model_a[\"rmse\"].round(4))\n",
    "print(\"Model B RMSE: \", model_b[\"rmse\"].round(4))\n",
    "\n",
    "print(\"Model A Validation RMSE: \", model_a[\"val_rmse\"].round(4))\n",
    "print(\"Model B Validation RMSE: \", model_b[\"val_rmse\"].round(4))\n"
   ]
  },
  {
   "cell_type": "code",
   "execution_count": 40,
   "metadata": {},
   "outputs": [
    {
     "data": {
      "text/plain": [
       "Text(0, 0.5, 'Frequency')"
      ]
     },
     "execution_count": 40,
     "metadata": {},
     "output_type": "execute_result"
    },
    {
     "data": {
      "image/png": "[encoded data removed]",
      "text/plain": [
       "<Figure size 600x400 with 1 Axes>"
      ]
     },
     "metadata": {},
     "output_type": "display_data"
    }
   ],
   "source": [
    "plt.figure(figsize=(6, 4))\n",
    "\n",
    "sns.histplot(y_train, color=\"blue\", alpha=0.5, bins=50)\n",
    "sns.histplot(model_b[\"predictions\"], color=\"red\", alpha=0.5, bins=50)\n",
    "\n",
    "plt.legend([\"Actual\", \"Predicted\"])\n",
    "plt.xlabel(\"Log(Price + 1)\")\n",
    "plt.ylabel(\"Frequency\")"
   ]
  },
  {
   "cell_type": "code",
   "execution_count": null,
   "metadata": {},
   "outputs": [],
   "source": []
  }
 ],
 "metadata": {
  "kernelspec": {
   "display_name": "mlz",
   "language": "python",
   "name": "python3"
  },
  "language_info": {
   "codemirror_mode": {
    "name": "ipython",
    "version": 3
   },
   "file_extension": ".py",
   "mimetype": "text/x-python",
   "name": "python",
   "nbconvert_exporter": "python",
   "pygments_lexer": "ipython3",
   "version": "3.12.6"
  }
 },
 "nbformat": 4,
 "nbformat_minor": 2
}
